{
 "cells": [
  {
   "cell_type": "code",
   "execution_count": 1,
   "id": "comfortable-queue",
   "metadata": {
    "_cell_guid": "b1076dfc-b9ad-4769-8c92-a6c4dae69d19",
    "_uuid": "8f2839f25d086af736a60e9eeb907d3b93b6e0e5",
    "execution": {
     "iopub.execute_input": "2021-06-21T10:21:52.693922Z",
     "iopub.status.busy": "2021-06-21T10:21:52.693336Z",
     "iopub.status.idle": "2021-06-21T10:21:52.731798Z",
     "shell.execute_reply": "2021-06-21T10:21:52.731111Z",
     "shell.execute_reply.started": "2021-06-21T10:07:21.658361Z"
    },
    "papermill": {
     "duration": 0.131912,
     "end_time": "2021-06-21T10:21:52.731947",
     "exception": false,
     "start_time": "2021-06-21T10:21:52.600035",
     "status": "completed"
    },
    "tags": []
   },
   "outputs": [
    {
     "name": "stdout",
     "output_type": "stream",
     "text": [
      "/kaggle/input/all-prompts/all_prompts.csv\n",
      "/kaggle/input/train-shl/train (1).csv\n",
      "/kaggle/input/test-shl/test.csv\n"
     ]
    }
   ],
   "source": [
    "# This Python 3 environment comes with many helpful analytics libraries installed\n",
    "# It is defined by the kaggle/python Docker image: https://github.com/kaggle/docker-python\n",
    "# For example, here's several helpful packages to load\n",
    "\n",
    "import numpy as np # linear algebra\n",
    "import pandas as pd # data processing, CSV file I/O (e.g. pd.read_csv)\n",
    "\n",
    "# Input data files are available in the read-only \"../input/\" directory\n",
    "# For example, running this (by clicking run or pressing Shift+Enter) will list all files under the input directory\n",
    "\n",
    "import os\n",
    "for dirname, _, filenames in os.walk('/kaggle/input'):\n",
    "    for filename in filenames:\n",
    "        print(os.path.join(dirname, filename))\n",
    "\n",
    "# You can write up to 20GB to the current directory (/kaggle/working/) that gets preserved as output when you create a version using \"Save & Run All\" \n",
    "# You can also write temporary files to /kaggle/temp/, but they won't be saved outside of the current session"
   ]
  },
  {
   "cell_type": "markdown",
   "id": "owned-candle",
   "metadata": {
    "papermill": {
     "duration": 0.076828,
     "end_time": "2021-06-21T10:21:52.894106",
     "exception": false,
     "start_time": "2021-06-21T10:21:52.817278",
     "status": "completed"
    },
    "tags": []
   },
   "source": [
    "preprocess\n",
    "word to vec\n",
    "lstm\n",
    "train\n",
    "predict"
   ]
  },
  {
   "cell_type": "code",
   "execution_count": 2,
   "id": "automated-marker",
   "metadata": {
    "execution": {
     "iopub.execute_input": "2021-06-21T10:21:53.057017Z",
     "iopub.status.busy": "2021-06-21T10:21:53.056053Z",
     "iopub.status.idle": "2021-06-21T10:21:53.059196Z",
     "shell.execute_reply": "2021-06-21T10:21:53.058772Z",
     "shell.execute_reply.started": "2021-06-19T11:51:08.257077Z"
    },
    "papermill": {
     "duration": 0.086026,
     "end_time": "2021-06-21T10:21:53.059313",
     "exception": false,
     "start_time": "2021-06-21T10:21:52.973287",
     "status": "completed"
    },
    "tags": []
   },
   "outputs": [],
   "source": [
    "#pd.set_option(\"display.max_colwidth\", None)"
   ]
  },
  {
   "cell_type": "code",
   "execution_count": 3,
   "id": "increasing-photography",
   "metadata": {
    "execution": {
     "iopub.execute_input": "2021-06-21T10:21:53.224065Z",
     "iopub.status.busy": "2021-06-21T10:21:53.223279Z",
     "iopub.status.idle": "2021-06-21T10:21:59.637734Z",
     "shell.execute_reply": "2021-06-21T10:21:59.637035Z",
     "shell.execute_reply.started": "2021-06-21T10:07:29.014788Z"
    },
    "papermill": {
     "duration": 6.498862,
     "end_time": "2021-06-21T10:21:59.637877",
     "exception": false,
     "start_time": "2021-06-21T10:21:53.139015",
     "status": "completed"
    },
    "tags": []
   },
   "outputs": [],
   "source": [
    "import numpy as np\n",
    "import pandas as pd\n",
    "import nltk\n",
    "import re\n",
    "from nltk.corpus import stopwords\n",
    "from nltk.tokenize import sent_tokenize,word_tokenize\n",
    "from gensim.models import Word2Vec\n",
    "from keras.layers import Embedding, LSTM, Dense, Dropout, Lambda, Flatten\n",
    "from keras.models import Sequential, load_model, model_from_config\n",
    "import keras.backend as K\n",
    "from sklearn.model_selection import train_test_split\n",
    "from sklearn.metrics import mean_squared_error\n",
    "from sklearn.metrics import cohen_kappa_score"
   ]
  },
  {
   "cell_type": "code",
   "execution_count": 4,
   "id": "controlled-garden",
   "metadata": {
    "execution": {
     "iopub.execute_input": "2021-06-21T10:21:59.798897Z",
     "iopub.status.busy": "2021-06-21T10:21:59.798270Z",
     "iopub.status.idle": "2021-06-21T10:21:59.895999Z",
     "shell.execute_reply": "2021-06-21T10:21:59.896502Z",
     "shell.execute_reply.started": "2021-06-21T10:14:23.778297Z"
    },
    "papermill": {
     "duration": 0.180642,
     "end_time": "2021-06-21T10:21:59.896730",
     "exception": false,
     "start_time": "2021-06-21T10:21:59.716088",
     "status": "completed"
    },
    "tags": []
   },
   "outputs": [
    {
     "data": {
      "text/html": [
       "<div>\n",
       "<style scoped>\n",
       "    .dataframe tbody tr th:only-of-type {\n",
       "        vertical-align: middle;\n",
       "    }\n",
       "\n",
       "    .dataframe tbody tr th {\n",
       "        vertical-align: top;\n",
       "    }\n",
       "\n",
       "    .dataframe thead th {\n",
       "        text-align: right;\n",
       "    }\n",
       "</style>\n",
       "<table border=\"1\" class=\"dataframe\">\n",
       "  <thead>\n",
       "    <tr style=\"text-align: right;\">\n",
       "      <th></th>\n",
       "      <th>Unnamed: 0</th>\n",
       "      <th>promptId</th>\n",
       "      <th>uniqueId</th>\n",
       "      <th>essay</th>\n",
       "      <th>evaluator_rating</th>\n",
       "    </tr>\n",
       "  </thead>\n",
       "  <tbody>\n",
       "    <tr>\n",
       "      <th>0</th>\n",
       "      <td>0</td>\n",
       "      <td>1</td>\n",
       "      <td>1_323</td>\n",
       "      <td>At present age, our education system is not go...</td>\n",
       "      <td>3.0</td>\n",
       "    </tr>\n",
       "    <tr>\n",
       "      <th>1</th>\n",
       "      <td>1</td>\n",
       "      <td>1</td>\n",
       "      <td>1_238</td>\n",
       "      <td>I am agree the tightly defined curriculum of o...</td>\n",
       "      <td>4.0</td>\n",
       "    </tr>\n",
       "    <tr>\n",
       "      <th>2</th>\n",
       "      <td>2</td>\n",
       "      <td>1</td>\n",
       "      <td>1_212</td>\n",
       "      <td>I strongly agree with the statement that tight...</td>\n",
       "      <td>2.0</td>\n",
       "    </tr>\n",
       "    <tr>\n",
       "      <th>3</th>\n",
       "      <td>3</td>\n",
       "      <td>1</td>\n",
       "      <td>1_117</td>\n",
       "      <td>Our education system is nice quitely but i dis...</td>\n",
       "      <td>2.0</td>\n",
       "    </tr>\n",
       "    <tr>\n",
       "      <th>4</th>\n",
       "      <td>4</td>\n",
       "      <td>1</td>\n",
       "      <td>1_229</td>\n",
       "      <td>i am totally agree with the statement that tig...</td>\n",
       "      <td>3.0</td>\n",
       "    </tr>\n",
       "  </tbody>\n",
       "</table>\n",
       "</div>"
      ],
      "text/plain": [
       "   Unnamed: 0  promptId uniqueId  \\\n",
       "0           0         1    1_323   \n",
       "1           1         1    1_238   \n",
       "2           2         1    1_212   \n",
       "3           3         1    1_117   \n",
       "4           4         1    1_229   \n",
       "\n",
       "                                               essay  evaluator_rating  \n",
       "0  At present age, our education system is not go...               3.0  \n",
       "1  I am agree the tightly defined curriculum of o...               4.0  \n",
       "2  I strongly agree with the statement that tight...               2.0  \n",
       "3  Our education system is nice quitely but i dis...               2.0  \n",
       "4  i am totally agree with the statement that tig...               3.0  "
      ]
     },
     "execution_count": 4,
     "metadata": {},
     "output_type": "execute_result"
    }
   ],
   "source": [
    "d = pd.read_csv(\"/kaggle/input/train-shl/train (1).csv\")\n",
    "d.head()"
   ]
  },
  {
   "cell_type": "code",
   "execution_count": 5,
   "id": "pacific-baltimore",
   "metadata": {
    "execution": {
     "iopub.execute_input": "2021-06-21T10:22:00.060337Z",
     "iopub.status.busy": "2021-06-21T10:22:00.059610Z",
     "iopub.status.idle": "2021-06-21T10:22:00.063716Z",
     "shell.execute_reply": "2021-06-21T10:22:00.064239Z",
     "shell.execute_reply.started": "2021-06-21T10:14:25.213392Z"
    },
    "papermill": {
     "duration": 0.089155,
     "end_time": "2021-06-21T10:22:00.064410",
     "exception": false,
     "start_time": "2021-06-21T10:21:59.975255",
     "status": "completed"
    },
    "tags": []
   },
   "outputs": [],
   "source": [
    "from sklearn.utils import shuffle\n",
    "d = shuffle(d)"
   ]
  },
  {
   "cell_type": "code",
   "execution_count": 6,
   "id": "empirical-server",
   "metadata": {
    "execution": {
     "iopub.execute_input": "2021-06-21T10:22:00.226718Z",
     "iopub.status.busy": "2021-06-21T10:22:00.225775Z",
     "iopub.status.idle": "2021-06-21T10:22:00.232750Z",
     "shell.execute_reply": "2021-06-21T10:22:00.233162Z",
     "shell.execute_reply.started": "2021-06-21T10:14:26.023181Z"
    },
    "papermill": {
     "duration": 0.088214,
     "end_time": "2021-06-21T10:22:00.233315",
     "exception": false,
     "start_time": "2021-06-21T10:22:00.145101",
     "status": "completed"
    },
    "tags": []
   },
   "outputs": [],
   "source": [
    "d['essay'] = d['essay'].fillna('').apply(str)"
   ]
  },
  {
   "cell_type": "code",
   "execution_count": 7,
   "id": "fiscal-closure",
   "metadata": {
    "execution": {
     "iopub.execute_input": "2021-06-21T10:22:00.390249Z",
     "iopub.status.busy": "2021-06-21T10:22:00.389340Z",
     "iopub.status.idle": "2021-06-21T10:22:00.396853Z",
     "shell.execute_reply": "2021-06-21T10:22:00.397247Z",
     "shell.execute_reply.started": "2021-06-21T10:14:26.733337Z"
    },
    "papermill": {
     "duration": 0.086336,
     "end_time": "2021-06-21T10:22:00.397396",
     "exception": false,
     "start_time": "2021-06-21T10:22:00.311060",
     "status": "completed"
    },
    "tags": []
   },
   "outputs": [
    {
     "data": {
      "text/plain": [
       "Unnamed: 0          0\n",
       "promptId            0\n",
       "uniqueId            0\n",
       "essay               0\n",
       "evaluator_rating    0\n",
       "dtype: int64"
      ]
     },
     "execution_count": 7,
     "metadata": {},
     "output_type": "execute_result"
    }
   ],
   "source": [
    "d.isnull().sum()"
   ]
  },
  {
   "cell_type": "code",
   "execution_count": 8,
   "id": "searching-frank",
   "metadata": {
    "execution": {
     "iopub.execute_input": "2021-06-21T10:22:00.555920Z",
     "iopub.status.busy": "2021-06-21T10:22:00.555043Z",
     "iopub.status.idle": "2021-06-21T10:22:00.586268Z",
     "shell.execute_reply": "2021-06-21T10:22:00.586749Z",
     "shell.execute_reply.started": "2021-06-21T10:14:27.613608Z"
    },
    "papermill": {
     "duration": 0.112599,
     "end_time": "2021-06-21T10:22:00.586912",
     "exception": false,
     "start_time": "2021-06-21T10:22:00.474313",
     "status": "completed"
    },
    "tags": []
   },
   "outputs": [
    {
     "data": {
      "text/html": [
       "<div>\n",
       "<style scoped>\n",
       "    .dataframe tbody tr th:only-of-type {\n",
       "        vertical-align: middle;\n",
       "    }\n",
       "\n",
       "    .dataframe tbody tr th {\n",
       "        vertical-align: top;\n",
       "    }\n",
       "\n",
       "    .dataframe thead th {\n",
       "        text-align: right;\n",
       "    }\n",
       "</style>\n",
       "<table border=\"1\" class=\"dataframe\">\n",
       "  <thead>\n",
       "    <tr style=\"text-align: right;\">\n",
       "      <th></th>\n",
       "      <th>Unnamed: 0</th>\n",
       "      <th>promptId</th>\n",
       "      <th>uniqueId</th>\n",
       "      <th>essay</th>\n",
       "      <th>evaluator_rating</th>\n",
       "    </tr>\n",
       "  </thead>\n",
       "  <tbody>\n",
       "    <tr>\n",
       "      <th>440</th>\n",
       "      <td>440</td>\n",
       "      <td>2</td>\n",
       "      <td>2_217</td>\n",
       "      <td>RICH &amp;amp; POOR Today in our country peoples m...</td>\n",
       "      <td>0.0</td>\n",
       "    </tr>\n",
       "    <tr>\n",
       "      <th>87</th>\n",
       "      <td>87</td>\n",
       "      <td>1</td>\n",
       "      <td>1_338</td>\n",
       "      <td>Accordingly Iwant to say this to the tightly o...</td>\n",
       "      <td>0.0</td>\n",
       "    </tr>\n",
       "    <tr>\n",
       "      <th>973</th>\n",
       "      <td>973</td>\n",
       "      <td>5</td>\n",
       "      <td>5_192</td>\n",
       "      <td>By using the nuclear powers the job is becomin...</td>\n",
       "      <td>0.0</td>\n",
       "    </tr>\n",
       "    <tr>\n",
       "      <th>1176</th>\n",
       "      <td>1176</td>\n",
       "      <td>5</td>\n",
       "      <td>5_279</td>\n",
       "      <td>on the high seas,the wrapping of wooden ships ...</td>\n",
       "      <td>0.0</td>\n",
       "    </tr>\n",
       "    <tr>\n",
       "      <th>144</th>\n",
       "      <td>144</td>\n",
       "      <td>1</td>\n",
       "      <td>1_305</td>\n",
       "      <td>curriculum of our education systemour educatio...</td>\n",
       "      <td>0.0</td>\n",
       "    </tr>\n",
       "    <tr>\n",
       "      <th>...</th>\n",
       "      <td>...</td>\n",
       "      <td>...</td>\n",
       "      <td>...</td>\n",
       "      <td>...</td>\n",
       "      <td>...</td>\n",
       "    </tr>\n",
       "    <tr>\n",
       "      <th>969</th>\n",
       "      <td>969</td>\n",
       "      <td>5</td>\n",
       "      <td>5_95</td>\n",
       "      <td>human being is most impornt in today and produ...</td>\n",
       "      <td>0.0</td>\n",
       "    </tr>\n",
       "    <tr>\n",
       "      <th>986</th>\n",
       "      <td>986</td>\n",
       "      <td>5</td>\n",
       "      <td>5_118</td>\n",
       "      <td>The arms and weapens that are used in wars may...</td>\n",
       "      <td>0.0</td>\n",
       "    </tr>\n",
       "    <tr>\n",
       "      <th>1183</th>\n",
       "      <td>1183</td>\n",
       "      <td>5</td>\n",
       "      <td>5_228</td>\n",
       "      <td>NUCLEAR DEVELOPMENT:The era of nuclear develop...</td>\n",
       "      <td>0.0</td>\n",
       "    </tr>\n",
       "    <tr>\n",
       "      <th>1180</th>\n",
       "      <td>1180</td>\n",
       "      <td>5</td>\n",
       "      <td>5_427</td>\n",
       "      <td>IT is my concerend this is not true ,the crimi...</td>\n",
       "      <td>0.0</td>\n",
       "    </tr>\n",
       "    <tr>\n",
       "      <th>1017</th>\n",
       "      <td>1017</td>\n",
       "      <td>5</td>\n",
       "      <td>5_80</td>\n",
       "      <td>Superpowers And Nuclear powersSuperpowers are ...</td>\n",
       "      <td>0.0</td>\n",
       "    </tr>\n",
       "  </tbody>\n",
       "</table>\n",
       "<p>96 rows × 5 columns</p>\n",
       "</div>"
      ],
      "text/plain": [
       "      Unnamed: 0  promptId uniqueId  \\\n",
       "440          440         2    2_217   \n",
       "87            87         1    1_338   \n",
       "973          973         5    5_192   \n",
       "1176        1176         5    5_279   \n",
       "144          144         1    1_305   \n",
       "...          ...       ...      ...   \n",
       "969          969         5     5_95   \n",
       "986          986         5    5_118   \n",
       "1183        1183         5    5_228   \n",
       "1180        1180         5    5_427   \n",
       "1017        1017         5     5_80   \n",
       "\n",
       "                                                  essay  evaluator_rating  \n",
       "440   RICH &amp; POOR Today in our country peoples m...               0.0  \n",
       "87    Accordingly Iwant to say this to the tightly o...               0.0  \n",
       "973   By using the nuclear powers the job is becomin...               0.0  \n",
       "1176  on the high seas,the wrapping of wooden ships ...               0.0  \n",
       "144   curriculum of our education systemour educatio...               0.0  \n",
       "...                                                 ...               ...  \n",
       "969   human being is most impornt in today and produ...               0.0  \n",
       "986   The arms and weapens that are used in wars may...               0.0  \n",
       "1183  NUCLEAR DEVELOPMENT:The era of nuclear develop...               0.0  \n",
       "1180  IT is my concerend this is not true ,the crimi...               0.0  \n",
       "1017  Superpowers And Nuclear powersSuperpowers are ...               0.0  \n",
       "\n",
       "[96 rows x 5 columns]"
      ]
     },
     "execution_count": 8,
     "metadata": {},
     "output_type": "execute_result"
    }
   ],
   "source": [
    "d[d[\"evaluator_rating\"] == 0]"
   ]
  },
  {
   "cell_type": "code",
   "execution_count": 9,
   "id": "reverse-market",
   "metadata": {
    "execution": {
     "iopub.execute_input": "2021-06-21T10:22:00.752818Z",
     "iopub.status.busy": "2021-06-21T10:22:00.751822Z",
     "iopub.status.idle": "2021-06-21T10:22:00.757444Z",
     "shell.execute_reply": "2021-06-21T10:22:00.758103Z",
     "shell.execute_reply.started": "2021-06-21T10:07:53.453330Z"
    },
    "papermill": {
     "duration": 0.092502,
     "end_time": "2021-06-21T10:22:00.758282",
     "exception": false,
     "start_time": "2021-06-21T10:22:00.665780",
     "status": "completed"
    },
    "tags": []
   },
   "outputs": [
    {
     "data": {
      "text/plain": [
       "'promptid = d[\"promptId\"]\\npID_train = promptid[:1200]\\npID_test = promptid[1200:]'"
      ]
     },
     "execution_count": 9,
     "metadata": {},
     "output_type": "execute_result"
    }
   ],
   "source": [
    "\"\"\"promptid = d[\"promptId\"]\n",
    "pID_train = promptid[:1200]\n",
    "pID_test = promptid[1200:]\"\"\""
   ]
  },
  {
   "cell_type": "code",
   "execution_count": null,
   "id": "familiar-lambda",
   "metadata": {
    "papermill": {
     "duration": 0.0795,
     "end_time": "2021-06-21T10:22:00.919252",
     "exception": false,
     "start_time": "2021-06-21T10:22:00.839752",
     "status": "completed"
    },
    "tags": []
   },
   "outputs": [],
   "source": []
  },
  {
   "cell_type": "code",
   "execution_count": 10,
   "id": "worthy-translation",
   "metadata": {
    "execution": {
     "iopub.execute_input": "2021-06-21T10:22:01.084546Z",
     "iopub.status.busy": "2021-06-21T10:22:01.083666Z",
     "iopub.status.idle": "2021-06-21T10:22:01.088409Z",
     "shell.execute_reply": "2021-06-21T10:22:01.088941Z",
     "shell.execute_reply.started": "2021-06-21T10:07:57.098596Z"
    },
    "papermill": {
     "duration": 0.088507,
     "end_time": "2021-06-21T10:22:01.089101",
     "exception": false,
     "start_time": "2021-06-21T10:22:01.000594",
     "status": "completed"
    },
    "tags": []
   },
   "outputs": [
    {
     "data": {
      "text/plain": [
       "'d.drop(columns= [\"Unnamed: 0\",\"promptId\", \"uniqueId\"],inplace = True)\\nd1 = d[ :1200]\\nd2 = d[1200:]'"
      ]
     },
     "execution_count": 10,
     "metadata": {},
     "output_type": "execute_result"
    }
   ],
   "source": [
    "\"\"\"d.drop(columns= [\"Unnamed: 0\",\"promptId\", \"uniqueId\"],inplace = True)\n",
    "d1 = d[ :1200]\n",
    "d2 = d[1200:]\"\"\"\n"
   ]
  },
  {
   "cell_type": "code",
   "execution_count": 11,
   "id": "minute-complaint",
   "metadata": {
    "execution": {
     "iopub.execute_input": "2021-06-21T10:22:01.250357Z",
     "iopub.status.busy": "2021-06-21T10:22:01.249561Z",
     "iopub.status.idle": "2021-06-21T10:22:01.252925Z",
     "shell.execute_reply": "2021-06-21T10:22:01.253405Z",
     "shell.execute_reply.started": "2021-06-21T10:07:58.333843Z"
    },
    "papermill": {
     "duration": 0.085473,
     "end_time": "2021-06-21T10:22:01.253580",
     "exception": false,
     "start_time": "2021-06-21T10:22:01.168107",
     "status": "completed"
    },
    "tags": []
   },
   "outputs": [],
   "source": [
    "#X = d[[\"essay\",\"promptId\"]]"
   ]
  },
  {
   "cell_type": "code",
   "execution_count": 12,
   "id": "collectible-concern",
   "metadata": {
    "execution": {
     "iopub.execute_input": "2021-06-21T10:22:01.416809Z",
     "iopub.status.busy": "2021-06-21T10:22:01.415905Z",
     "iopub.status.idle": "2021-06-21T10:22:01.421494Z",
     "shell.execute_reply": "2021-06-21T10:22:01.422006Z",
     "shell.execute_reply.started": "2021-06-21T10:14:33.297174Z"
    },
    "papermill": {
     "duration": 0.089055,
     "end_time": "2021-06-21T10:22:01.422161",
     "exception": false,
     "start_time": "2021-06-21T10:22:01.333106",
     "status": "completed"
    },
    "tags": []
   },
   "outputs": [],
   "source": [
    "d1 = d[:900]\n",
    "d2 = d[900:]\n",
    "x_train = d1.essay\n",
    "x_test = d2.essay\n",
    "prompt_train = d1.promptId\n",
    "prompt_test = d2.promptId\n",
    "y_train = d1.evaluator_rating\n",
    "y_test = d2.evaluator_rating\n"
   ]
  },
  {
   "cell_type": "markdown",
   "id": "authentic-rescue",
   "metadata": {
    "papermill": {
     "duration": 0.080555,
     "end_time": "2021-06-21T10:22:01.581588",
     "exception": false,
     "start_time": "2021-06-21T10:22:01.501033",
     "status": "completed"
    },
    "tags": []
   },
   "source": []
  },
  {
   "cell_type": "code",
   "execution_count": 13,
   "id": "foster-gravity",
   "metadata": {
    "execution": {
     "iopub.execute_input": "2021-06-21T10:22:01.744621Z",
     "iopub.status.busy": "2021-06-21T10:22:01.743780Z",
     "iopub.status.idle": "2021-06-21T10:22:01.747414Z",
     "shell.execute_reply": "2021-06-21T10:22:01.747840Z",
     "shell.execute_reply.started": "2021-06-21T10:08:05.294207Z"
    },
    "papermill": {
     "duration": 0.086638,
     "end_time": "2021-06-21T10:22:01.747985",
     "exception": false,
     "start_time": "2021-06-21T10:22:01.661347",
     "status": "completed"
    },
    "tags": []
   },
   "outputs": [],
   "source": [
    "#x_train, x_test, y_train, y_test = train_test_split(, d.evaluator_rating, test_size=0.2, random_state=42)"
   ]
  },
  {
   "cell_type": "code",
   "execution_count": 14,
   "id": "canadian-scheduling",
   "metadata": {
    "execution": {
     "iopub.execute_input": "2021-06-21T10:22:01.910297Z",
     "iopub.status.busy": "2021-06-21T10:22:01.909698Z",
     "iopub.status.idle": "2021-06-21T10:22:01.912997Z",
     "shell.execute_reply": "2021-06-21T10:22:01.912413Z",
     "shell.execute_reply.started": "2021-06-21T10:08:05.893536Z"
    },
    "papermill": {
     "duration": 0.085462,
     "end_time": "2021-06-21T10:22:01.913142",
     "exception": false,
     "start_time": "2021-06-21T10:22:01.827680",
     "status": "completed"
    },
    "tags": []
   },
   "outputs": [
    {
     "data": {
      "text/plain": [
       "pandas.core.series.Series"
      ]
     },
     "execution_count": 14,
     "metadata": {},
     "output_type": "execute_result"
    }
   ],
   "source": [
    "type(x_train)"
   ]
  },
  {
   "cell_type": "code",
   "execution_count": 15,
   "id": "occasional-timer",
   "metadata": {
    "execution": {
     "iopub.execute_input": "2021-06-21T10:22:02.074202Z",
     "iopub.status.busy": "2021-06-21T10:22:02.073648Z",
     "iopub.status.idle": "2021-06-21T10:22:02.079353Z",
     "shell.execute_reply": "2021-06-21T10:22:02.078870Z",
     "shell.execute_reply.started": "2021-06-21T10:08:06.933608Z"
    },
    "papermill": {
     "duration": 0.088315,
     "end_time": "2021-06-21T10:22:02.079481",
     "exception": false,
     "start_time": "2021-06-21T10:22:01.991166",
     "status": "completed"
    },
    "tags": []
   },
   "outputs": [
    {
     "data": {
      "text/plain": [
       "'train_id = x_train.promptId\\nx_train.drop(columns = [\"promptId\"], axis = 1,inplace = True)\\ntest_id = x_test.promptId\\nx_test.drop(columns = [\"promptId\"], axis = 1,inplace = True)\\nx_train'"
      ]
     },
     "execution_count": 15,
     "metadata": {},
     "output_type": "execute_result"
    }
   ],
   "source": [
    "\"\"\"train_id = x_train.promptId\n",
    "x_train.drop(columns = [\"promptId\"], axis = 1,inplace = True)\n",
    "test_id = x_test.promptId\n",
    "x_test.drop(columns = [\"promptId\"], axis = 1,inplace = True)\n",
    "x_train\"\"\""
   ]
  },
  {
   "cell_type": "code",
   "execution_count": 16,
   "id": "spiritual-validation",
   "metadata": {
    "execution": {
     "iopub.execute_input": "2021-06-21T10:22:02.246629Z",
     "iopub.status.busy": "2021-06-21T10:22:02.246050Z",
     "iopub.status.idle": "2021-06-21T10:22:02.250047Z",
     "shell.execute_reply": "2021-06-21T10:22:02.249452Z",
     "shell.execute_reply.started": "2021-06-21T10:08:07.773776Z"
    },
    "papermill": {
     "duration": 0.089049,
     "end_time": "2021-06-21T10:22:02.250163",
     "exception": false,
     "start_time": "2021-06-21T10:22:02.161114",
     "status": "completed"
    },
    "tags": []
   },
   "outputs": [
    {
     "data": {
      "text/plain": [
       "440     0.0\n",
       "792     4.0\n",
       "827     2.5\n",
       "1170    2.5\n",
       "92      3.5\n",
       "       ... \n",
       "241     2.5\n",
       "74      3.0\n",
       "688     3.5\n",
       "202     3.0\n",
       "1221    2.5\n",
       "Name: evaluator_rating, Length: 900, dtype: float64"
      ]
     },
     "execution_count": 16,
     "metadata": {},
     "output_type": "execute_result"
    }
   ],
   "source": [
    "y_train"
   ]
  },
  {
   "cell_type": "code",
   "execution_count": 17,
   "id": "minimal-sewing",
   "metadata": {
    "execution": {
     "iopub.execute_input": "2021-06-21T10:22:02.419694Z",
     "iopub.status.busy": "2021-06-21T10:22:02.419036Z",
     "iopub.status.idle": "2021-06-21T10:22:02.468509Z",
     "shell.execute_reply": "2021-06-21T10:22:02.468007Z",
     "shell.execute_reply.started": "2021-06-21T10:08:08.333790Z"
    },
    "papermill": {
     "duration": 0.137849,
     "end_time": "2021-06-21T10:22:02.468674",
     "exception": false,
     "start_time": "2021-06-21T10:22:02.330825",
     "status": "completed"
    },
    "tags": []
   },
   "outputs": [
    {
     "data": {
      "text/html": [
       "<div>\n",
       "<style scoped>\n",
       "    .dataframe tbody tr th:only-of-type {\n",
       "        vertical-align: middle;\n",
       "    }\n",
       "\n",
       "    .dataframe tbody tr th {\n",
       "        vertical-align: top;\n",
       "    }\n",
       "\n",
       "    .dataframe thead th {\n",
       "        text-align: right;\n",
       "    }\n",
       "</style>\n",
       "<table border=\"1\" class=\"dataframe\">\n",
       "  <thead>\n",
       "    <tr style=\"text-align: right;\">\n",
       "      <th></th>\n",
       "      <th>Unnamed: 0</th>\n",
       "      <th>promptId</th>\n",
       "      <th>uniqueId</th>\n",
       "      <th>essay</th>\n",
       "    </tr>\n",
       "  </thead>\n",
       "  <tbody>\n",
       "    <tr>\n",
       "      <th>0</th>\n",
       "      <td>0</td>\n",
       "      <td>1</td>\n",
       "      <td>1_315</td>\n",
       "      <td>Curriculum has been adopted in many schools. T...</td>\n",
       "    </tr>\n",
       "    <tr>\n",
       "      <th>1</th>\n",
       "      <td>1</td>\n",
       "      <td>1</td>\n",
       "      <td>1_214</td>\n",
       "      <td>I strongly agree with the statement ,  The tig...</td>\n",
       "    </tr>\n",
       "    <tr>\n",
       "      <th>2</th>\n",
       "      <td>2</td>\n",
       "      <td>1</td>\n",
       "      <td>1_196</td>\n",
       "      <td>Imagination and creativity is the most importa...</td>\n",
       "    </tr>\n",
       "    <tr>\n",
       "      <th>3</th>\n",
       "      <td>3</td>\n",
       "      <td>1</td>\n",
       "      <td>1_178</td>\n",
       "      <td>In our eduction system leaves no room for imag...</td>\n",
       "    </tr>\n",
       "    <tr>\n",
       "      <th>4</th>\n",
       "      <td>4</td>\n",
       "      <td>1</td>\n",
       "      <td>1_201</td>\n",
       "      <td>I will agree at some what extend, because if w...</td>\n",
       "    </tr>\n",
       "  </tbody>\n",
       "</table>\n",
       "</div>"
      ],
      "text/plain": [
       "   Unnamed: 0  promptId uniqueId  \\\n",
       "0           0         1    1_315   \n",
       "1           1         1    1_214   \n",
       "2           2         1    1_196   \n",
       "3           3         1    1_178   \n",
       "4           4         1    1_201   \n",
       "\n",
       "                                               essay  \n",
       "0  Curriculum has been adopted in many schools. T...  \n",
       "1  I strongly agree with the statement ,  The tig...  \n",
       "2  Imagination and creativity is the most importa...  \n",
       "3  In our eduction system leaves no room for imag...  \n",
       "4  I will agree at some what extend, because if w...  "
      ]
     },
     "execution_count": 17,
     "metadata": {},
     "output_type": "execute_result"
    }
   ],
   "source": [
    "t = pd.read_csv(\"/kaggle/input/test-shl/test.csv\")\n",
    "t.head()"
   ]
  },
  {
   "cell_type": "code",
   "execution_count": 18,
   "id": "heard-stanford",
   "metadata": {
    "execution": {
     "iopub.execute_input": "2021-06-21T10:22:02.633820Z",
     "iopub.status.busy": "2021-06-21T10:22:02.633187Z",
     "iopub.status.idle": "2021-06-21T10:22:02.647284Z",
     "shell.execute_reply": "2021-06-21T10:22:02.647820Z",
     "shell.execute_reply.started": "2021-06-21T10:08:09.173268Z"
    },
    "papermill": {
     "duration": 0.097627,
     "end_time": "2021-06-21T10:22:02.647974",
     "exception": false,
     "start_time": "2021-06-21T10:22:02.550347",
     "status": "completed"
    },
    "tags": []
   },
   "outputs": [
    {
     "name": "stdout",
     "output_type": "stream",
     "text": [
      "   Unnamed: 0  promptId                                    prompt_question\n",
      "0           0         1  The tight curriculum of our education system l...\n",
      "1           1         2  Our society is disrupted by the ever-widening ...\n",
      "2           2         3  Has technology become a new addiction? Have we...\n",
      "3           4         5  In the nuclear age, the production and develop...\n"
     ]
    }
   ],
   "source": [
    "p = pd.read_csv(\"/kaggle/input/all-prompts/all_prompts.csv\")\n",
    "print(p)"
   ]
  },
  {
   "cell_type": "code",
   "execution_count": 19,
   "id": "included-killing",
   "metadata": {
    "execution": {
     "iopub.execute_input": "2021-06-21T10:22:02.813656Z",
     "iopub.status.busy": "2021-06-21T10:22:02.813072Z",
     "iopub.status.idle": "2021-06-21T10:22:02.815731Z",
     "shell.execute_reply": "2021-06-21T10:22:02.816133Z",
     "shell.execute_reply.started": "2021-06-21T10:14:49.013535Z"
    },
    "papermill": {
     "duration": 0.08877,
     "end_time": "2021-06-21T10:22:02.816290",
     "exception": false,
     "start_time": "2021-06-21T10:22:02.727520",
     "status": "completed"
    },
    "tags": []
   },
   "outputs": [],
   "source": [
    "from nltk.stem import PorterStemmer\n",
    "from nltk.corpus import stopwords   "
   ]
  },
  {
   "cell_type": "code",
   "execution_count": 20,
   "id": "delayed-puppy",
   "metadata": {
    "execution": {
     "iopub.execute_input": "2021-06-21T10:22:02.986467Z",
     "iopub.status.busy": "2021-06-21T10:22:02.985396Z",
     "iopub.status.idle": "2021-06-21T10:22:02.989880Z",
     "shell.execute_reply": "2021-06-21T10:22:02.989315Z",
     "shell.execute_reply.started": "2021-06-21T10:08:11.213394Z"
    },
    "papermill": {
     "duration": 0.091967,
     "end_time": "2021-06-21T10:22:02.990016",
     "exception": false,
     "start_time": "2021-06-21T10:22:02.898049",
     "status": "completed"
    },
    "tags": []
   },
   "outputs": [
    {
     "data": {
      "text/plain": [
       "440     RICH &amp; POOR Today in our country peoples m...\n",
       "792     In this era of 21st century, we are surrounded...\n",
       "827     Yes, I agree with this Statement (Has technolo...\n",
       "1170    the race in the production of weapons in the e...\n",
       "92      The Education System Of IndiaThe education sys...\n",
       "                              ...                        \n",
       "241     As we all know the the education system of ind...\n",
       "74      Education is provided in order to make one und...\n",
       "688     TECHNOLOGY: BOON OR BAN??Technology , a word t...\n",
       "202     OUR EDUCATION SYSTEM-Eduction in india as prov...\n",
       "1221    Nuclear development have both pros and cons ac...\n",
       "Name: essay, Length: 900, dtype: object"
      ]
     },
     "execution_count": 20,
     "metadata": {},
     "output_type": "execute_result"
    }
   ],
   "source": [
    "x_train"
   ]
  },
  {
   "cell_type": "code",
   "execution_count": 21,
   "id": "brazilian-jaguar",
   "metadata": {
    "execution": {
     "iopub.execute_input": "2021-06-21T10:22:03.162090Z",
     "iopub.status.busy": "2021-06-21T10:22:03.161200Z",
     "iopub.status.idle": "2021-06-21T10:22:03.164736Z",
     "shell.execute_reply": "2021-06-21T10:22:03.165172Z",
     "shell.execute_reply.started": "2021-06-21T10:08:12.653925Z"
    },
    "papermill": {
     "duration": 0.091487,
     "end_time": "2021-06-21T10:22:03.165319",
     "exception": false,
     "start_time": "2021-06-21T10:22:03.073832",
     "status": "completed"
    },
    "tags": []
   },
   "outputs": [
    {
     "data": {
      "text/plain": [
       "'x_train = list(x_train)\\nx_test = list(x_test)'"
      ]
     },
     "execution_count": 21,
     "metadata": {},
     "output_type": "execute_result"
    }
   ],
   "source": [
    "\"\"\"x_train = list(x_train)\n",
    "x_test = list(x_test)\"\"\""
   ]
  },
  {
   "cell_type": "code",
   "execution_count": null,
   "id": "removed-friday",
   "metadata": {
    "papermill": {
     "duration": 0.080944,
     "end_time": "2021-06-21T10:22:03.328822",
     "exception": false,
     "start_time": "2021-06-21T10:22:03.247878",
     "status": "completed"
    },
    "tags": []
   },
   "outputs": [],
   "source": []
  },
  {
   "cell_type": "code",
   "execution_count": 22,
   "id": "expired-petroleum",
   "metadata": {
    "execution": {
     "iopub.execute_input": "2021-06-21T10:22:03.498675Z",
     "iopub.status.busy": "2021-06-21T10:22:03.497851Z",
     "iopub.status.idle": "2021-06-21T10:22:03.501555Z",
     "shell.execute_reply": "2021-06-21T10:22:03.501088Z",
     "shell.execute_reply.started": "2021-06-21T10:08:14.293308Z"
    },
    "papermill": {
     "duration": 0.091432,
     "end_time": "2021-06-21T10:22:03.501677",
     "exception": false,
     "start_time": "2021-06-21T10:22:03.410245",
     "status": "completed"
    },
    "tags": []
   },
   "outputs": [
    {
     "data": {
      "text/plain": [
       "440     RICH &amp; POOR Today in our country peoples m...\n",
       "792     In this era of 21st century, we are surrounded...\n",
       "827     Yes, I agree with this Statement (Has technolo...\n",
       "1170    the race in the production of weapons in the e...\n",
       "92      The Education System Of IndiaThe education sys...\n",
       "                              ...                        \n",
       "241     As we all know the the education system of ind...\n",
       "74      Education is provided in order to make one und...\n",
       "688     TECHNOLOGY: BOON OR BAN??Technology , a word t...\n",
       "202     OUR EDUCATION SYSTEM-Eduction in india as prov...\n",
       "1221    Nuclear development have both pros and cons ac...\n",
       "Name: essay, Length: 900, dtype: object"
      ]
     },
     "execution_count": 22,
     "metadata": {},
     "output_type": "execute_result"
    }
   ],
   "source": [
    "x_train"
   ]
  },
  {
   "cell_type": "code",
   "execution_count": 23,
   "id": "higher-assurance",
   "metadata": {
    "execution": {
     "iopub.execute_input": "2021-06-21T10:22:03.675172Z",
     "iopub.status.busy": "2021-06-21T10:22:03.674519Z",
     "iopub.status.idle": "2021-06-21T10:22:04.153380Z",
     "shell.execute_reply": "2021-06-21T10:22:04.152858Z",
     "shell.execute_reply.started": "2021-06-21T10:16:31.573151Z"
    },
    "papermill": {
     "duration": 0.568904,
     "end_time": "2021-06-21T10:22:04.153524",
     "exception": false,
     "start_time": "2021-06-21T10:22:03.584620",
     "status": "completed"
    },
    "tags": []
   },
   "outputs": [],
   "source": [
    "import re\n",
    "stop_words = set(stopwords.words('english'))\n",
    "def preprocess_sentence(w):\n",
    "    #changing all character to lowercase\n",
    "    w = w.lower().strip()\n",
    "    #print(w)\n",
    "    w = re.sub(r\"([?.!,¿])\", r\" \\1 \", (w))\n",
    "    w = re.sub(r'[\" \"]+', \" \", w)\n",
    "    w = re.sub(r\"[^a-zA-Z?.!,¿]+\", \" \", w)\n",
    "    w = w.rstrip().strip()\n",
    "    return w\n",
    "\n",
    "def sentword(w):\n",
    "    sentence = [] \n",
    "    words=w.split()\n",
    "    for i in words:\n",
    "        if i not in stop_words: \n",
    "            sentence.append(i)\n",
    "    return sentence\n",
    "#x_train = preprocess_sentence(x_train)\n",
    "x_train = x_train.apply(preprocess_sentence)\n",
    "#d1[\"essay\"] = d1[\"essay\"].apply(sentword)\n",
    "x_test = x_test.apply(preprocess_sentence)\n",
    "#d2[\"essay\"] = d2[\"essay\"].apply(sentword)"
   ]
  },
  {
   "cell_type": "code",
   "execution_count": 24,
   "id": "rapid-wilson",
   "metadata": {
    "execution": {
     "iopub.execute_input": "2021-06-21T10:22:04.324433Z",
     "iopub.status.busy": "2021-06-21T10:22:04.323820Z",
     "iopub.status.idle": "2021-06-21T10:22:04.327507Z",
     "shell.execute_reply": "2021-06-21T10:22:04.327940Z",
     "shell.execute_reply.started": "2021-06-21T10:08:16.413189Z"
    },
    "papermill": {
     "duration": 0.091301,
     "end_time": "2021-06-21T10:22:04.328103",
     "exception": false,
     "start_time": "2021-06-21T10:22:04.236802",
     "status": "completed"
    },
    "tags": []
   },
   "outputs": [
    {
     "data": {
      "text/plain": [
       "'x_train = d1.essay\\nx_test = d2.essay'"
      ]
     },
     "execution_count": 24,
     "metadata": {},
     "output_type": "execute_result"
    }
   ],
   "source": [
    "\"\"\"x_train = d1.essay\n",
    "x_test = d2.essay\"\"\""
   ]
  },
  {
   "cell_type": "code",
   "execution_count": 25,
   "id": "functional-blast",
   "metadata": {
    "execution": {
     "iopub.execute_input": "2021-06-21T10:22:04.500940Z",
     "iopub.status.busy": "2021-06-21T10:22:04.499965Z",
     "iopub.status.idle": "2021-06-21T10:22:04.502815Z",
     "shell.execute_reply": "2021-06-21T10:22:04.502189Z",
     "shell.execute_reply.started": "2021-06-21T10:08:17.135067Z"
    },
    "papermill": {
     "duration": 0.089904,
     "end_time": "2021-06-21T10:22:04.502944",
     "exception": false,
     "start_time": "2021-06-21T10:22:04.413040",
     "status": "completed"
    },
    "tags": []
   },
   "outputs": [],
   "source": [
    "#x_train"
   ]
  },
  {
   "cell_type": "code",
   "execution_count": 26,
   "id": "resistant-mailing",
   "metadata": {
    "execution": {
     "iopub.execute_input": "2021-06-21T10:22:04.672605Z",
     "iopub.status.busy": "2021-06-21T10:22:04.671691Z",
     "iopub.status.idle": "2021-06-21T10:22:04.676350Z",
     "shell.execute_reply": "2021-06-21T10:22:04.676826Z",
     "shell.execute_reply.started": "2021-06-21T10:08:17.938522Z"
    },
    "papermill": {
     "duration": 0.09102,
     "end_time": "2021-06-21T10:22:04.677003",
     "exception": false,
     "start_time": "2021-06-21T10:22:04.585983",
     "status": "completed"
    },
    "tags": []
   },
   "outputs": [
    {
     "data": {
      "text/plain": [
       "'x_train = list(x_train)\\nx_test = list(x_test)\\nfrom sklearn.feature_extraction.text import TfidfVectorizer\\ntfidf = TfidfVectorizer(binary = True)\\ntf = tfidf.fit(x_train)\\nx_train = tf.transform(x_train)\\nx_test = tf.transform(x_test)'"
      ]
     },
     "execution_count": 26,
     "metadata": {},
     "output_type": "execute_result"
    }
   ],
   "source": [
    "\"\"\"x_train = list(x_train)\n",
    "x_test = list(x_test)\n",
    "from sklearn.feature_extraction.text import TfidfVectorizer\n",
    "tfidf = TfidfVectorizer(binary = True)\n",
    "tf = tfidf.fit(x_train)\n",
    "x_train = tf.transform(x_train)\n",
    "x_test = tf.transform(x_test)\"\"\"\n"
   ]
  },
  {
   "cell_type": "code",
   "execution_count": 27,
   "id": "bigger-mailman",
   "metadata": {
    "execution": {
     "iopub.execute_input": "2021-06-21T10:22:04.852916Z",
     "iopub.status.busy": "2021-06-21T10:22:04.852267Z",
     "iopub.status.idle": "2021-06-21T10:22:04.854647Z",
     "shell.execute_reply": "2021-06-21T10:22:04.854047Z",
     "shell.execute_reply.started": "2021-06-21T10:08:18.693179Z"
    },
    "papermill": {
     "duration": 0.093645,
     "end_time": "2021-06-21T10:22:04.854791",
     "exception": false,
     "start_time": "2021-06-21T10:22:04.761146",
     "status": "completed"
    },
    "tags": []
   },
   "outputs": [],
   "source": [
    "#x_train.shape"
   ]
  },
  {
   "cell_type": "code",
   "execution_count": 28,
   "id": "comparative-climb",
   "metadata": {
    "execution": {
     "iopub.execute_input": "2021-06-21T10:22:05.026673Z",
     "iopub.status.busy": "2021-06-21T10:22:05.026049Z",
     "iopub.status.idle": "2021-06-21T10:22:05.031121Z",
     "shell.execute_reply": "2021-06-21T10:22:05.030698Z",
     "shell.execute_reply.started": "2021-06-21T10:08:19.292949Z"
    },
    "papermill": {
     "duration": 0.091076,
     "end_time": "2021-06-21T10:22:05.031242",
     "exception": false,
     "start_time": "2021-06-21T10:22:04.940166",
     "status": "completed"
    },
    "tags": []
   },
   "outputs": [
    {
     "data": {
      "text/plain": [
       "'from sklearn.decomposition import TruncatedSVD\\nclf = TruncatedSVD(300)\\nXpca = clf.fit_transform(x_train)'"
      ]
     },
     "execution_count": 28,
     "metadata": {},
     "output_type": "execute_result"
    }
   ],
   "source": [
    "\"\"\"from sklearn.decomposition import TruncatedSVD\n",
    "clf = TruncatedSVD(300)\n",
    "Xpca = clf.fit_transform(x_train)\"\"\""
   ]
  },
  {
   "cell_type": "code",
   "execution_count": 29,
   "id": "experimental-apollo",
   "metadata": {
    "execution": {
     "iopub.execute_input": "2021-06-21T10:22:05.200493Z",
     "iopub.status.busy": "2021-06-21T10:22:05.199862Z",
     "iopub.status.idle": "2021-06-21T10:22:05.202597Z",
     "shell.execute_reply": "2021-06-21T10:22:05.202076Z",
     "shell.execute_reply.started": "2021-06-21T10:08:24.172955Z"
    },
    "papermill": {
     "duration": 0.088374,
     "end_time": "2021-06-21T10:22:05.202727",
     "exception": false,
     "start_time": "2021-06-21T10:22:05.114353",
     "status": "completed"
    },
    "tags": []
   },
   "outputs": [],
   "source": [
    "#Xpca_test = clf.transform(x_test)"
   ]
  },
  {
   "cell_type": "code",
   "execution_count": 30,
   "id": "diverse-animation",
   "metadata": {
    "execution": {
     "iopub.execute_input": "2021-06-21T10:22:05.370886Z",
     "iopub.status.busy": "2021-06-21T10:22:05.369963Z",
     "iopub.status.idle": "2021-06-21T10:22:05.372886Z",
     "shell.execute_reply": "2021-06-21T10:22:05.372273Z",
     "shell.execute_reply.started": "2021-06-20T17:23:53.249466Z"
    },
    "papermill": {
     "duration": 0.089894,
     "end_time": "2021-06-21T10:22:05.373020",
     "exception": false,
     "start_time": "2021-06-21T10:22:05.283126",
     "status": "completed"
    },
    "tags": []
   },
   "outputs": [],
   "source": [
    "#prompt_train"
   ]
  },
  {
   "cell_type": "code",
   "execution_count": 31,
   "id": "focal-lemon",
   "metadata": {
    "execution": {
     "iopub.execute_input": "2021-06-21T10:22:05.564972Z",
     "iopub.status.busy": "2021-06-21T10:22:05.564348Z",
     "iopub.status.idle": "2021-06-21T10:22:05.567168Z",
     "shell.execute_reply": "2021-06-21T10:22:05.566694Z",
     "shell.execute_reply.started": "2021-06-20T17:24:04.395362Z"
    },
    "papermill": {
     "duration": 0.095794,
     "end_time": "2021-06-21T10:22:05.567293",
     "exception": false,
     "start_time": "2021-06-21T10:22:05.471499",
     "status": "completed"
    },
    "tags": []
   },
   "outputs": [],
   "source": [
    "#np.append(Xpca,prompt_train)\n"
   ]
  },
  {
   "cell_type": "code",
   "execution_count": 32,
   "id": "polar-volunteer",
   "metadata": {
    "execution": {
     "iopub.execute_input": "2021-06-21T10:22:05.734308Z",
     "iopub.status.busy": "2021-06-21T10:22:05.733393Z",
     "iopub.status.idle": "2021-06-21T10:22:05.735992Z",
     "shell.execute_reply": "2021-06-21T10:22:05.735559Z",
     "shell.execute_reply.started": "2021-06-20T17:24:05.324459Z"
    },
    "papermill": {
     "duration": 0.087596,
     "end_time": "2021-06-21T10:22:05.736109",
     "exception": false,
     "start_time": "2021-06-21T10:22:05.648513",
     "status": "completed"
    },
    "tags": []
   },
   "outputs": [],
   "source": [
    "#np.append(Xpca_test,prompt_test)"
   ]
  },
  {
   "cell_type": "code",
   "execution_count": 33,
   "id": "pending-masters",
   "metadata": {
    "execution": {
     "iopub.execute_input": "2021-06-21T10:22:05.903864Z",
     "iopub.status.busy": "2021-06-21T10:22:05.903162Z",
     "iopub.status.idle": "2021-06-21T10:22:05.905052Z",
     "shell.execute_reply": "2021-06-21T10:22:05.905431Z",
     "shell.execute_reply.started": "2021-06-20T17:24:06.2758Z"
    },
    "papermill": {
     "duration": 0.088288,
     "end_time": "2021-06-21T10:22:05.905605",
     "exception": false,
     "start_time": "2021-06-21T10:22:05.817317",
     "status": "completed"
    },
    "tags": []
   },
   "outputs": [],
   "source": [
    "#Xpca_test.shape"
   ]
  },
  {
   "cell_type": "code",
   "execution_count": 34,
   "id": "conservative-concept",
   "metadata": {
    "execution": {
     "iopub.execute_input": "2021-06-21T10:22:06.074494Z",
     "iopub.status.busy": "2021-06-21T10:22:06.073901Z",
     "iopub.status.idle": "2021-06-21T10:22:06.076857Z",
     "shell.execute_reply": "2021-06-21T10:22:06.077275Z",
     "shell.execute_reply.started": "2021-06-20T17:24:07.15467Z"
    },
    "papermill": {
     "duration": 0.089654,
     "end_time": "2021-06-21T10:22:06.077486",
     "exception": false,
     "start_time": "2021-06-21T10:22:05.987832",
     "status": "completed"
    },
    "tags": []
   },
   "outputs": [],
   "source": [
    "#Xpca[\"promptId\"] = d.promptId"
   ]
  },
  {
   "cell_type": "code",
   "execution_count": 35,
   "id": "dated-product",
   "metadata": {
    "execution": {
     "iopub.execute_input": "2021-06-21T10:22:06.247707Z",
     "iopub.status.busy": "2021-06-21T10:22:06.247077Z",
     "iopub.status.idle": "2021-06-21T10:22:06.250842Z",
     "shell.execute_reply": "2021-06-21T10:22:06.250273Z",
     "shell.execute_reply.started": "2021-06-20T17:24:08.129522Z"
    },
    "papermill": {
     "duration": 0.089078,
     "end_time": "2021-06-21T10:22:06.250963",
     "exception": false,
     "start_time": "2021-06-21T10:22:06.161885",
     "status": "completed"
    },
    "tags": []
   },
   "outputs": [],
   "source": [
    "#Xpca.shape"
   ]
  },
  {
   "cell_type": "code",
   "execution_count": 36,
   "id": "iraqi-sullivan",
   "metadata": {
    "execution": {
     "iopub.execute_input": "2021-06-21T10:22:06.415080Z",
     "iopub.status.busy": "2021-06-21T10:22:06.414516Z",
     "iopub.status.idle": "2021-06-21T10:22:06.417018Z",
     "shell.execute_reply": "2021-06-21T10:22:06.417430Z",
     "shell.execute_reply.started": "2021-06-20T17:24:09.159473Z"
    },
    "papermill": {
     "duration": 0.08608,
     "end_time": "2021-06-21T10:22:06.417600",
     "exception": false,
     "start_time": "2021-06-21T10:22:06.331520",
     "status": "completed"
    },
    "tags": []
   },
   "outputs": [],
   "source": [
    "#Xpca = np.reshape(Xpca, (Xpca.shape[0], 1, Xpca.shape[1]))\n",
    "#Xpca_test = np.reshape(Xpca_test, (Xpca_test.shape[0], 1, Xpca_test.shape[1]))\n",
    "\n",
    "#testing_vectors = np.reshape(testing_vectors, (testing_vectors.shape[0], 1, testing_vectors.shape[1]))"
   ]
  },
  {
   "cell_type": "code",
   "execution_count": null,
   "id": "inner-ethiopia",
   "metadata": {
    "papermill": {
     "duration": 0.082079,
     "end_time": "2021-06-21T10:22:06.583058",
     "exception": false,
     "start_time": "2021-06-21T10:22:06.500979",
     "status": "completed"
    },
    "tags": []
   },
   "outputs": [],
   "source": []
  },
  {
   "cell_type": "code",
   "execution_count": 37,
   "id": "ongoing-simon",
   "metadata": {
    "execution": {
     "iopub.execute_input": "2021-06-21T10:22:06.754204Z",
     "iopub.status.busy": "2021-06-21T10:22:06.753625Z",
     "iopub.status.idle": "2021-06-21T10:22:07.160962Z",
     "shell.execute_reply": "2021-06-21T10:22:07.160320Z",
     "shell.execute_reply.started": "2021-06-21T10:20:25.211291Z"
    },
    "papermill": {
     "duration": 0.492952,
     "end_time": "2021-06-21T10:22:07.161104",
     "exception": false,
     "start_time": "2021-06-21T10:22:06.668152",
     "status": "completed"
    },
    "tags": []
   },
   "outputs": [
    {
     "name": "stdout",
     "output_type": "stream",
     "text": [
      "Model: \"sequential\"\n",
      "_________________________________________________________________\n",
      "Layer (type)                 Output Shape              Param #   \n",
      "=================================================================\n",
      "lstm (LSTM)                  (None, 1, 300)            721200    \n",
      "_________________________________________________________________\n",
      "lstm_1 (LSTM)                (None, 64)                93440     \n",
      "_________________________________________________________________\n",
      "dropout (Dropout)            (None, 64)                0         \n",
      "_________________________________________________________________\n",
      "dense (Dense)                (None, 1)                 65        \n",
      "=================================================================\n",
      "Total params: 814,705\n",
      "Trainable params: 814,705\n",
      "Non-trainable params: 0\n",
      "_________________________________________________________________\n"
     ]
    }
   ],
   "source": [
    "def get_model():\n",
    "    model = Sequential()\n",
    "    model.add(LSTM(300, dropout=0.4, recurrent_dropout=0.4, input_shape=[1, 300], return_sequences=True))\n",
    "    model.add(LSTM(64, recurrent_dropout=0.4))\n",
    "    model.add(Dropout(0.5))\n",
    "    model.add(Dense(1, activation='relu'))\n",
    "    model.compile(loss='mean_squared_error', optimizer='rmsprop', metrics=['mae'])\n",
    "    model.summary()\n",
    "    return model\n",
    "lstm = get_model()"
   ]
  },
  {
   "cell_type": "code",
   "execution_count": 38,
   "id": "exposed-highlight",
   "metadata": {
    "execution": {
     "iopub.execute_input": "2021-06-21T10:22:07.329921Z",
     "iopub.status.busy": "2021-06-21T10:22:07.329294Z",
     "iopub.status.idle": "2021-06-21T10:22:07.332049Z",
     "shell.execute_reply": "2021-06-21T10:22:07.332506Z",
     "shell.execute_reply.started": "2021-06-21T10:20:26.492968Z"
    },
    "papermill": {
     "duration": 0.087974,
     "end_time": "2021-06-21T10:22:07.332684",
     "exception": false,
     "start_time": "2021-06-21T10:22:07.244710",
     "status": "completed"
    },
    "tags": []
   },
   "outputs": [],
   "source": [
    "#Xpca.shape"
   ]
  },
  {
   "cell_type": "code",
   "execution_count": 39,
   "id": "wound-immunology",
   "metadata": {
    "execution": {
     "iopub.execute_input": "2021-06-21T10:22:07.501768Z",
     "iopub.status.busy": "2021-06-21T10:22:07.501169Z",
     "iopub.status.idle": "2021-06-21T10:22:07.510666Z",
     "shell.execute_reply": "2021-06-21T10:22:07.511178Z",
     "shell.execute_reply.started": "2021-06-21T10:20:27.311369Z"
    },
    "papermill": {
     "duration": 0.095963,
     "end_time": "2021-06-21T10:22:07.511338",
     "exception": false,
     "start_time": "2021-06-21T10:22:07.415375",
     "status": "completed"
    },
    "tags": []
   },
   "outputs": [],
   "source": [
    "def essay_to_wordlist(essay_v, remove_stopwords):\n",
    "    \"\"\"Remove the tagged labels and word tokenize the sentence.\"\"\"\n",
    "    essay_v = re.sub(\"[^a-zA-Z]\", \" \", essay_v)\n",
    "    words = essay_v.lower().split()\n",
    "    if remove_stopwords:\n",
    "        stops = set(stopwords.words(\"english\"))\n",
    "        words = [w for w in words if not w in stops]\n",
    "    return (words)\n",
    "\n",
    "def essay_to_sentences(essay_v, remove_stopwords):\n",
    "    \"\"\"Sentence tokenize the essay and call essay_to_wordlist() for word tokenization.\"\"\"\n",
    "    tokenizer = nltk.data.load('tokenizers/punkt/english.pickle')\n",
    "    raw_sentences = tokenizer.tokenize(essay_v.strip())\n",
    "    sentences = []\n",
    "    for raw_sentence in raw_sentences:\n",
    "        if len(raw_sentence) > 0:\n",
    "            sentences.append(essay_to_wordlist(raw_sentence, remove_stopwords))\n",
    "    return sentences\n",
    "\n",
    "def makeFeatureVec(words, model, num_features):\n",
    "    \"\"\"Make Feature Vector from the words list of an Essay.\"\"\"\n",
    "    featureVec = np.zeros((num_features,),dtype=\"float32\")\n",
    "    num_words = 0.\n",
    "    index2word_set = set(model.wv.index_to_key)\n",
    "    for word in words:\n",
    "        if word in index2word_set:\n",
    "            num_words += 1\n",
    "            featureVec = np.add(featureVec,model.wv[word])        \n",
    "    featureVec = np.divide(featureVec,num_words)\n",
    "    return featureVec\n",
    "\n",
    "def getAvgFeatureVecs(essays, model, num_features):\n",
    "    \"\"\"Main function to generate the word vectors for word2vec model.\"\"\"\n",
    "    counter = 0\n",
    "    essayFeatureVecs = np.zeros((len(essays),num_features),dtype=\"float32\")\n",
    "    for essay in essays:\n",
    "        essayFeatureVecs[counter] = makeFeatureVec(essay, model, num_features)\n",
    "        counter = counter + 1\n",
    "    return essayFeatureVecs"
   ]
  },
  {
   "cell_type": "code",
   "execution_count": 40,
   "id": "pregnant-silver",
   "metadata": {
    "execution": {
     "iopub.execute_input": "2021-06-21T10:22:07.684489Z",
     "iopub.status.busy": "2021-06-21T10:22:07.683914Z",
     "iopub.status.idle": "2021-06-21T10:22:09.573622Z",
     "shell.execute_reply": "2021-06-21T10:22:09.573048Z",
     "shell.execute_reply.started": "2021-06-21T10:20:28.250633Z"
    },
    "papermill": {
     "duration": 1.977158,
     "end_time": "2021-06-21T10:22:09.573780",
     "exception": false,
     "start_time": "2021-06-21T10:22:07.596622",
     "status": "completed"
    },
    "tags": []
   },
   "outputs": [],
   "source": [
    "sentences = []\n",
    "for essay in d1.essay:\n",
    "# Obtaining all sentences from the training essays.\n",
    "    sentences += essay_to_sentences(essay, remove_stopwords = True)"
   ]
  },
  {
   "cell_type": "code",
   "execution_count": null,
   "id": "grateful-blond",
   "metadata": {
    "papermill": {
     "duration": 0.081508,
     "end_time": "2021-06-21T10:22:09.738367",
     "exception": false,
     "start_time": "2021-06-21T10:22:09.656859",
     "status": "completed"
    },
    "tags": []
   },
   "outputs": [],
   "source": []
  },
  {
   "cell_type": "code",
   "execution_count": 41,
   "id": "revolutionary-tissue",
   "metadata": {
    "execution": {
     "iopub.execute_input": "2021-06-21T10:22:09.950000Z",
     "iopub.status.busy": "2021-06-21T10:22:09.944826Z",
     "iopub.status.idle": "2021-06-21T10:22:11.418490Z",
     "shell.execute_reply": "2021-06-21T10:22:11.417978Z",
     "shell.execute_reply.started": "2021-06-21T10:20:30.461608Z"
    },
    "papermill": {
     "duration": 1.596946,
     "end_time": "2021-06-21T10:22:11.418671",
     "exception": false,
     "start_time": "2021-06-21T10:22:09.821725",
     "status": "completed"
    },
    "tags": []
   },
   "outputs": [
    {
     "name": "stdout",
     "output_type": "stream",
     "text": [
      "Training Word2Vec Model...\n"
     ]
    },
    {
     "name": "stderr",
     "output_type": "stream",
     "text": [
      "/opt/conda/lib/python3.7/site-packages/ipykernel_launcher.py:13: DeprecationWarning: Call to deprecated `init_sims` (Gensim 4.0.0 implemented internal optimizations that make calls to init_sims() unnecessary. init_sims() is now obsoleted and will be completely removed in future versions. See https://github.com/RaRe-Technologies/gensim/wiki/Migrating-from-Gensim-3.x-to-4).\n",
      "  del sys.path[0]\n"
     ]
    }
   ],
   "source": [
    "import gensim\n",
    "from gensim.models import Word2Vec\n",
    "\n",
    "num_features = 300 \n",
    "min_word_count = 40\n",
    "num_workers = 4\n",
    "context = 10\n",
    "downsampling = 1e-3\n",
    "\n",
    "print(\"Training Word2Vec Model...\")\n",
    "model = Word2Vec(sentences, workers=num_workers, vector_size=num_features, min_count = min_word_count, window = context, sample = downsampling)\n",
    "\n",
    "model.init_sims(replace=True)\n",
    "model.wv.save_word2vec_format('word2vecmodel.bin', binary=True)\n",
    "\n",
    "clean_train_essays = []\n",
    "    \n",
    "# Generate training and testing data word vectors.\n",
    "for essay_v in d1.essay:\n",
    "    clean_train_essays.append(essay_to_wordlist(essay_v, remove_stopwords=True))\n",
    "trainDataVecs = getAvgFeatureVecs(clean_train_essays, model, num_features)\n",
    "    \n",
    "clean_test_essays = []\n",
    "for essay_v in d2.essay:\n",
    "    clean_test_essays.append(essay_to_wordlist( essay_v, remove_stopwords=True ))\n",
    "testDataVecs = getAvgFeatureVecs( clean_test_essays, model, num_features )\n",
    "    \n",
    "trainDataVecs = np.array(trainDataVecs)\n",
    "testDataVecs = np.array(testDataVecs)\n",
    "    # Reshaping train and test vectors to 3 dimensions. (1 represnts one timestep)\n",
    "#trainDataVecs = np.reshape(trainDataVecs, (trainDataVecs.shape[0], 1, trainDataVecs.shape[1]))\n",
    "#testDataVecs = np.reshape(testDataVecs, (testDataVecs.shape[0], 1, testDataVecs.shape[1]))\n",
    "    \n",
    "    #lstm_model = get_model()\n",
    "    #lstm_model.fit(trainDataVecs, y_train, batch_size=64, epochs=50"
   ]
  },
  {
   "cell_type": "code",
   "execution_count": 42,
   "id": "delayed-canon",
   "metadata": {
    "execution": {
     "iopub.execute_input": "2021-06-21T10:22:11.591858Z",
     "iopub.status.busy": "2021-06-21T10:22:11.591092Z",
     "iopub.status.idle": "2021-06-21T10:22:11.594192Z",
     "shell.execute_reply": "2021-06-21T10:22:11.594649Z",
     "shell.execute_reply.started": "2021-06-21T10:20:33.851000Z"
    },
    "papermill": {
     "duration": 0.091771,
     "end_time": "2021-06-21T10:22:11.594797",
     "exception": false,
     "start_time": "2021-06-21T10:22:11.503026",
     "status": "completed"
    },
    "tags": []
   },
   "outputs": [
    {
     "data": {
      "text/plain": [
       "(900, 300)"
      ]
     },
     "execution_count": 42,
     "metadata": {},
     "output_type": "execute_result"
    }
   ],
   "source": [
    "trainDataVecs.shape"
   ]
  },
  {
   "cell_type": "code",
   "execution_count": 43,
   "id": "standard-colombia",
   "metadata": {
    "execution": {
     "iopub.execute_input": "2021-06-21T10:22:11.767291Z",
     "iopub.status.busy": "2021-06-21T10:22:11.766381Z",
     "iopub.status.idle": "2021-06-21T10:22:11.773121Z",
     "shell.execute_reply": "2021-06-21T10:22:11.773635Z",
     "shell.execute_reply.started": "2021-06-21T10:20:34.651154Z"
    },
    "papermill": {
     "duration": 0.093405,
     "end_time": "2021-06-21T10:22:11.773777",
     "exception": false,
     "start_time": "2021-06-21T10:22:11.680372",
     "status": "completed"
    },
    "tags": []
   },
   "outputs": [
    {
     "data": {
      "text/plain": [
       "array([ 0.02817143,  0.09923932, -0.02168802, ...,  3.        ,\n",
       "        1.        ,  5.        ])"
      ]
     },
     "execution_count": 43,
     "metadata": {},
     "output_type": "execute_result"
    }
   ],
   "source": [
    "np.append(trainDataVecs,prompt_train)"
   ]
  },
  {
   "cell_type": "code",
   "execution_count": 44,
   "id": "analyzed-brush",
   "metadata": {
    "execution": {
     "iopub.execute_input": "2021-06-21T10:22:11.944737Z",
     "iopub.status.busy": "2021-06-21T10:22:11.943953Z",
     "iopub.status.idle": "2021-06-21T10:22:11.948512Z",
     "shell.execute_reply": "2021-06-21T10:22:11.949075Z",
     "shell.execute_reply.started": "2021-06-21T10:20:35.370903Z"
    },
    "papermill": {
     "duration": 0.092261,
     "end_time": "2021-06-21T10:22:11.949230",
     "exception": false,
     "start_time": "2021-06-21T10:22:11.856969",
     "status": "completed"
    },
    "tags": []
   },
   "outputs": [
    {
     "data": {
      "text/plain": [
       "array([ 0.02042537,  0.07195824, -0.05602362, ...,  1.        ,\n",
       "        1.        ,  1.        ])"
      ]
     },
     "execution_count": 44,
     "metadata": {},
     "output_type": "execute_result"
    }
   ],
   "source": [
    "np.append(testDataVecs,prompt_test)"
   ]
  },
  {
   "cell_type": "code",
   "execution_count": 45,
   "id": "linear-fishing",
   "metadata": {
    "execution": {
     "iopub.execute_input": "2021-06-21T10:22:12.125218Z",
     "iopub.status.busy": "2021-06-21T10:22:12.124667Z",
     "iopub.status.idle": "2021-06-21T10:22:12.127344Z",
     "shell.execute_reply": "2021-06-21T10:22:12.126868Z",
     "shell.execute_reply.started": "2021-06-21T10:20:35.981500Z"
    },
    "papermill": {
     "duration": 0.093102,
     "end_time": "2021-06-21T10:22:12.127476",
     "exception": false,
     "start_time": "2021-06-21T10:22:12.034374",
     "status": "completed"
    },
    "tags": []
   },
   "outputs": [
    {
     "data": {
      "text/plain": [
       "(900, 300)"
      ]
     },
     "execution_count": 45,
     "metadata": {},
     "output_type": "execute_result"
    }
   ],
   "source": [
    "trainDataVecs.shape"
   ]
  },
  {
   "cell_type": "code",
   "execution_count": 46,
   "id": "electoral-trail",
   "metadata": {
    "execution": {
     "iopub.execute_input": "2021-06-21T10:22:12.340670Z",
     "iopub.status.busy": "2021-06-21T10:22:12.340068Z",
     "iopub.status.idle": "2021-06-21T10:22:12.343967Z",
     "shell.execute_reply": "2021-06-21T10:22:12.344408Z",
     "shell.execute_reply.started": "2021-06-21T10:20:36.571213Z"
    },
    "papermill": {
     "duration": 0.09018,
     "end_time": "2021-06-21T10:22:12.344564",
     "exception": false,
     "start_time": "2021-06-21T10:22:12.254384",
     "status": "completed"
    },
    "tags": []
   },
   "outputs": [],
   "source": [
    "trainDataVecs = np.reshape(trainDataVecs, (trainDataVecs.shape[0], 1, trainDataVecs.shape[1]))\n",
    "testDataVecs = np.reshape(testDataVecs, (testDataVecs.shape[0], 1, testDataVecs.shape[1]))"
   ]
  },
  {
   "cell_type": "code",
   "execution_count": 47,
   "id": "optimum-quebec",
   "metadata": {
    "execution": {
     "iopub.execute_input": "2021-06-21T10:22:12.522957Z",
     "iopub.status.busy": "2021-06-21T10:22:12.522308Z",
     "iopub.status.idle": "2021-06-21T10:22:12.524649Z",
     "shell.execute_reply": "2021-06-21T10:22:12.525083Z",
     "shell.execute_reply.started": "2021-06-21T10:20:37.181337Z"
    },
    "papermill": {
     "duration": 0.090986,
     "end_time": "2021-06-21T10:22:12.525235",
     "exception": false,
     "start_time": "2021-06-21T10:22:12.434249",
     "status": "completed"
    },
    "tags": []
   },
   "outputs": [
    {
     "data": {
      "text/plain": [
       "(900, 1, 300)"
      ]
     },
     "execution_count": 47,
     "metadata": {},
     "output_type": "execute_result"
    }
   ],
   "source": [
    "trainDataVecs.shape"
   ]
  },
  {
   "cell_type": "code",
   "execution_count": 48,
   "id": "established-edmonton",
   "metadata": {
    "execution": {
     "iopub.execute_input": "2021-06-21T10:22:12.698048Z",
     "iopub.status.busy": "2021-06-21T10:22:12.697438Z",
     "iopub.status.idle": "2021-06-21T10:22:48.540965Z",
     "shell.execute_reply": "2021-06-21T10:22:48.540309Z",
     "shell.execute_reply.started": "2021-06-21T10:20:37.811236Z"
    },
    "papermill": {
     "duration": 35.93095,
     "end_time": "2021-06-21T10:22:48.541106",
     "exception": false,
     "start_time": "2021-06-21T10:22:12.610156",
     "status": "completed"
    },
    "tags": []
   },
   "outputs": [
    {
     "name": "stdout",
     "output_type": "stream",
     "text": [
      "Epoch 1/150\n",
      "15/15 [==============================] - 4s 15ms/step - loss: 6.3522 - mae: 2.2767\n",
      "Epoch 2/150\n",
      "15/15 [==============================] - 0s 13ms/step - loss: 1.2464 - mae: 0.8581\n",
      "Epoch 3/150\n",
      "15/15 [==============================] - 0s 13ms/step - loss: 1.2430 - mae: 0.8739\n",
      "Epoch 4/150\n",
      "15/15 [==============================] - 0s 13ms/step - loss: 1.1644 - mae: 0.8168\n",
      "Epoch 5/150\n",
      "15/15 [==============================] - 0s 13ms/step - loss: 1.2077 - mae: 0.8472\n",
      "Epoch 6/150\n",
      "15/15 [==============================] - 0s 13ms/step - loss: 1.0663 - mae: 0.7780\n",
      "Epoch 7/150\n",
      "15/15 [==============================] - 0s 14ms/step - loss: 1.2167 - mae: 0.8606\n",
      "Epoch 8/150\n",
      "15/15 [==============================] - 0s 13ms/step - loss: 1.3053 - mae: 0.8592\n",
      "Epoch 9/150\n",
      "15/15 [==============================] - 0s 14ms/step - loss: 1.2291 - mae: 0.8436\n",
      "Epoch 10/150\n",
      "15/15 [==============================] - 0s 14ms/step - loss: 1.2986 - mae: 0.8560\n",
      "Epoch 11/150\n",
      "15/15 [==============================] - 0s 14ms/step - loss: 1.2059 - mae: 0.8217\n",
      "Epoch 12/150\n",
      "15/15 [==============================] - 0s 13ms/step - loss: 1.1794 - mae: 0.8497\n",
      "Epoch 13/150\n",
      "15/15 [==============================] - 0s 14ms/step - loss: 1.2256 - mae: 0.8822\n",
      "Epoch 14/150\n",
      "15/15 [==============================] - 0s 13ms/step - loss: 1.1723 - mae: 0.8197\n",
      "Epoch 15/150\n",
      "15/15 [==============================] - 0s 14ms/step - loss: 1.2128 - mae: 0.8561\n",
      "Epoch 16/150\n",
      "15/15 [==============================] - 0s 14ms/step - loss: 1.1820 - mae: 0.8363\n",
      "Epoch 17/150\n",
      "15/15 [==============================] - 0s 13ms/step - loss: 1.1494 - mae: 0.7966\n",
      "Epoch 18/150\n",
      "15/15 [==============================] - 0s 14ms/step - loss: 1.1483 - mae: 0.8236\n",
      "Epoch 19/150\n",
      "15/15 [==============================] - 0s 13ms/step - loss: 1.2181 - mae: 0.8564\n",
      "Epoch 20/150\n",
      "15/15 [==============================] - 0s 13ms/step - loss: 1.1086 - mae: 0.7862\n",
      "Epoch 21/150\n",
      "15/15 [==============================] - 0s 14ms/step - loss: 1.1135 - mae: 0.8091\n",
      "Epoch 22/150\n",
      "15/15 [==============================] - 0s 14ms/step - loss: 1.2198 - mae: 0.8140\n",
      "Epoch 23/150\n",
      "15/15 [==============================] - 0s 14ms/step - loss: 1.1421 - mae: 0.8278\n",
      "Epoch 24/150\n",
      "15/15 [==============================] - 0s 14ms/step - loss: 1.2098 - mae: 0.8512\n",
      "Epoch 25/150\n",
      "15/15 [==============================] - 0s 14ms/step - loss: 1.1908 - mae: 0.8485\n",
      "Epoch 26/150\n",
      "15/15 [==============================] - 0s 14ms/step - loss: 1.1587 - mae: 0.7885\n",
      "Epoch 27/150\n",
      "15/15 [==============================] - 0s 14ms/step - loss: 1.1763 - mae: 0.8503\n",
      "Epoch 28/150\n",
      "15/15 [==============================] - 0s 14ms/step - loss: 1.1707 - mae: 0.8167\n",
      "Epoch 29/150\n",
      "15/15 [==============================] - 0s 14ms/step - loss: 1.1249 - mae: 0.7918\n",
      "Epoch 30/150\n",
      "15/15 [==============================] - 0s 14ms/step - loss: 1.1410 - mae: 0.7972\n",
      "Epoch 31/150\n",
      "15/15 [==============================] - 0s 14ms/step - loss: 1.1952 - mae: 0.8573\n",
      "Epoch 32/150\n",
      "15/15 [==============================] - 0s 14ms/step - loss: 1.1825 - mae: 0.8083\n",
      "Epoch 33/150\n",
      "15/15 [==============================] - 0s 14ms/step - loss: 1.1691 - mae: 0.7964\n",
      "Epoch 34/150\n",
      "15/15 [==============================] - 0s 14ms/step - loss: 1.1960 - mae: 0.8556\n",
      "Epoch 35/150\n",
      "15/15 [==============================] - 0s 15ms/step - loss: 1.1922 - mae: 0.8340\n",
      "Epoch 36/150\n",
      "15/15 [==============================] - 0s 14ms/step - loss: 1.1915 - mae: 0.8472\n",
      "Epoch 37/150\n",
      "15/15 [==============================] - 0s 13ms/step - loss: 1.1508 - mae: 0.8326\n",
      "Epoch 38/150\n",
      "15/15 [==============================] - 0s 14ms/step - loss: 1.2802 - mae: 0.8554\n",
      "Epoch 39/150\n",
      "15/15 [==============================] - 0s 13ms/step - loss: 1.1218 - mae: 0.8036\n",
      "Epoch 40/150\n",
      "15/15 [==============================] - 0s 14ms/step - loss: 1.0897 - mae: 0.7936\n",
      "Epoch 41/150\n",
      "15/15 [==============================] - 0s 14ms/step - loss: 1.2974 - mae: 0.9178\n",
      "Epoch 42/150\n",
      "15/15 [==============================] - 0s 13ms/step - loss: 1.1798 - mae: 0.8124\n",
      "Epoch 43/150\n",
      "15/15 [==============================] - 0s 13ms/step - loss: 1.1908 - mae: 0.8114\n",
      "Epoch 44/150\n",
      "15/15 [==============================] - 0s 13ms/step - loss: 1.1894 - mae: 0.8572\n",
      "Epoch 45/150\n",
      "15/15 [==============================] - 0s 13ms/step - loss: 1.1440 - mae: 0.8059\n",
      "Epoch 46/150\n",
      "15/15 [==============================] - 0s 13ms/step - loss: 1.0852 - mae: 0.7726\n",
      "Epoch 47/150\n",
      "15/15 [==============================] - 0s 13ms/step - loss: 1.1124 - mae: 0.8059\n",
      "Epoch 48/150\n",
      "15/15 [==============================] - 0s 13ms/step - loss: 1.1638 - mae: 0.8095\n",
      "Epoch 49/150\n",
      "15/15 [==============================] - 0s 13ms/step - loss: 1.1908 - mae: 0.8304\n",
      "Epoch 50/150\n",
      "15/15 [==============================] - 0s 14ms/step - loss: 1.1004 - mae: 0.7921\n",
      "Epoch 51/150\n",
      "15/15 [==============================] - 0s 13ms/step - loss: 1.3369 - mae: 0.8687\n",
      "Epoch 52/150\n",
      "15/15 [==============================] - 0s 16ms/step - loss: 1.2552 - mae: 0.8480\n",
      "Epoch 53/150\n",
      "15/15 [==============================] - 0s 13ms/step - loss: 1.1268 - mae: 0.8191\n",
      "Epoch 54/150\n",
      "15/15 [==============================] - 0s 13ms/step - loss: 1.1174 - mae: 0.8124\n",
      "Epoch 55/150\n",
      "15/15 [==============================] - 0s 13ms/step - loss: 1.1722 - mae: 0.8123\n",
      "Epoch 56/150\n",
      "15/15 [==============================] - 0s 13ms/step - loss: 1.1449 - mae: 0.8271\n",
      "Epoch 57/150\n",
      "15/15 [==============================] - 0s 13ms/step - loss: 1.1030 - mae: 0.7773\n",
      "Epoch 58/150\n",
      "15/15 [==============================] - 0s 13ms/step - loss: 1.1490 - mae: 0.8197\n",
      "Epoch 59/150\n",
      "15/15 [==============================] - 0s 13ms/step - loss: 1.1891 - mae: 0.8340\n",
      "Epoch 60/150\n",
      "15/15 [==============================] - 0s 13ms/step - loss: 1.1771 - mae: 0.8133\n",
      "Epoch 61/150\n",
      "15/15 [==============================] - 0s 13ms/step - loss: 1.1749 - mae: 0.8486\n",
      "Epoch 62/150\n",
      "15/15 [==============================] - 0s 13ms/step - loss: 1.1425 - mae: 0.8037\n",
      "Epoch 63/150\n",
      "15/15 [==============================] - 0s 13ms/step - loss: 1.1308 - mae: 0.7943\n",
      "Epoch 64/150\n",
      "15/15 [==============================] - 0s 14ms/step - loss: 1.1919 - mae: 0.8238\n",
      "Epoch 65/150\n",
      "15/15 [==============================] - 0s 14ms/step - loss: 1.0756 - mae: 0.7789\n",
      "Epoch 66/150\n",
      "15/15 [==============================] - 0s 13ms/step - loss: 1.0567 - mae: 0.7749\n",
      "Epoch 67/150\n",
      "15/15 [==============================] - 0s 13ms/step - loss: 1.1481 - mae: 0.8161\n",
      "Epoch 68/150\n",
      "15/15 [==============================] - 0s 14ms/step - loss: 1.1884 - mae: 0.8150\n",
      "Epoch 69/150\n",
      "15/15 [==============================] - 0s 13ms/step - loss: 1.0844 - mae: 0.7707\n",
      "Epoch 70/150\n",
      "15/15 [==============================] - 0s 13ms/step - loss: 1.0375 - mae: 0.7561\n",
      "Epoch 71/150\n",
      "15/15 [==============================] - 0s 14ms/step - loss: 1.1972 - mae: 0.8552\n",
      "Epoch 72/150\n",
      "15/15 [==============================] - 0s 13ms/step - loss: 1.1625 - mae: 0.8106\n",
      "Epoch 73/150\n",
      "15/15 [==============================] - 0s 14ms/step - loss: 1.2240 - mae: 0.8401\n",
      "Epoch 74/150\n",
      "15/15 [==============================] - 0s 13ms/step - loss: 1.1182 - mae: 0.7844\n",
      "Epoch 75/150\n",
      "15/15 [==============================] - 0s 14ms/step - loss: 1.3169 - mae: 0.8987\n",
      "Epoch 76/150\n",
      "15/15 [==============================] - 0s 14ms/step - loss: 1.1064 - mae: 0.8116\n",
      "Epoch 77/150\n",
      "15/15 [==============================] - 0s 13ms/step - loss: 1.2884 - mae: 0.8504\n",
      "Epoch 78/150\n",
      "15/15 [==============================] - 0s 13ms/step - loss: 1.1509 - mae: 0.8110\n",
      "Epoch 79/150\n",
      "15/15 [==============================] - 0s 14ms/step - loss: 1.1061 - mae: 0.8140\n",
      "Epoch 80/150\n",
      "15/15 [==============================] - 0s 14ms/step - loss: 1.1387 - mae: 0.8142\n",
      "Epoch 81/150\n",
      "15/15 [==============================] - 0s 14ms/step - loss: 1.1846 - mae: 0.8162\n",
      "Epoch 82/150\n",
      "15/15 [==============================] - 0s 14ms/step - loss: 1.0596 - mae: 0.7783\n",
      "Epoch 83/150\n",
      "15/15 [==============================] - 0s 14ms/step - loss: 1.2150 - mae: 0.8671\n",
      "Epoch 84/150\n",
      "15/15 [==============================] - 0s 14ms/step - loss: 1.1165 - mae: 0.7967\n",
      "Epoch 85/150\n",
      "15/15 [==============================] - 0s 13ms/step - loss: 1.1369 - mae: 0.8058\n",
      "Epoch 86/150\n",
      "15/15 [==============================] - 0s 13ms/step - loss: 1.1979 - mae: 0.8556\n",
      "Epoch 87/150\n",
      "15/15 [==============================] - 0s 13ms/step - loss: 1.0314 - mae: 0.7585\n",
      "Epoch 88/150\n",
      "15/15 [==============================] - 0s 14ms/step - loss: 1.2081 - mae: 0.8415\n",
      "Epoch 89/150\n",
      "15/15 [==============================] - 0s 14ms/step - loss: 1.0880 - mae: 0.7812\n",
      "Epoch 90/150\n",
      "15/15 [==============================] - 0s 14ms/step - loss: 1.1220 - mae: 0.8083\n",
      "Epoch 91/150\n",
      "15/15 [==============================] - 0s 14ms/step - loss: 1.1528 - mae: 0.7981\n",
      "Epoch 92/150\n",
      "15/15 [==============================] - 0s 14ms/step - loss: 1.2792 - mae: 0.8463\n",
      "Epoch 93/150\n",
      "15/15 [==============================] - 0s 14ms/step - loss: 1.2841 - mae: 0.8427\n",
      "Epoch 94/150\n",
      "15/15 [==============================] - 0s 14ms/step - loss: 1.1315 - mae: 0.8059\n",
      "Epoch 95/150\n",
      "15/15 [==============================] - 0s 13ms/step - loss: 1.1475 - mae: 0.8148\n",
      "Epoch 96/150\n",
      "15/15 [==============================] - 0s 14ms/step - loss: 1.1778 - mae: 0.8017\n",
      "Epoch 97/150\n",
      "15/15 [==============================] - 0s 14ms/step - loss: 1.2233 - mae: 0.8319\n",
      "Epoch 98/150\n",
      "15/15 [==============================] - 0s 14ms/step - loss: 1.2181 - mae: 0.8415\n",
      "Epoch 99/150\n",
      "15/15 [==============================] - 0s 15ms/step - loss: 1.1319 - mae: 0.8163\n",
      "Epoch 100/150\n",
      "15/15 [==============================] - 0s 14ms/step - loss: 1.1625 - mae: 0.7941\n",
      "Epoch 101/150\n",
      "15/15 [==============================] - 0s 14ms/step - loss: 1.1722 - mae: 0.8187\n",
      "Epoch 102/150\n",
      "15/15 [==============================] - 0s 14ms/step - loss: 1.1431 - mae: 0.8206\n",
      "Epoch 103/150\n",
      "15/15 [==============================] - 0s 14ms/step - loss: 1.1784 - mae: 0.8120\n",
      "Epoch 104/150\n",
      "15/15 [==============================] - 0s 15ms/step - loss: 1.1354 - mae: 0.8002\n",
      "Epoch 105/150\n",
      "15/15 [==============================] - 0s 17ms/step - loss: 1.2267 - mae: 0.8234\n",
      "Epoch 106/150\n",
      "15/15 [==============================] - 0s 14ms/step - loss: 1.1903 - mae: 0.8260\n",
      "Epoch 107/150\n",
      "15/15 [==============================] - 0s 14ms/step - loss: 1.0903 - mae: 0.8048\n",
      "Epoch 108/150\n",
      "15/15 [==============================] - 0s 14ms/step - loss: 1.1381 - mae: 0.8054\n",
      "Epoch 109/150\n",
      "15/15 [==============================] - 0s 14ms/step - loss: 1.1250 - mae: 0.8197\n",
      "Epoch 110/150\n",
      "15/15 [==============================] - 0s 14ms/step - loss: 1.1808 - mae: 0.8147\n",
      "Epoch 111/150\n",
      "15/15 [==============================] - 0s 14ms/step - loss: 1.0277 - mae: 0.7609\n",
      "Epoch 112/150\n",
      "15/15 [==============================] - 0s 14ms/step - loss: 1.1101 - mae: 0.7982\n",
      "Epoch 113/150\n",
      "15/15 [==============================] - 0s 14ms/step - loss: 1.0499 - mae: 0.7876\n",
      "Epoch 114/150\n",
      "15/15 [==============================] - 0s 14ms/step - loss: 1.1988 - mae: 0.8494\n",
      "Epoch 115/150\n",
      "15/15 [==============================] - 0s 14ms/step - loss: 1.1912 - mae: 0.8390\n",
      "Epoch 116/150\n",
      "15/15 [==============================] - 0s 14ms/step - loss: 1.2128 - mae: 0.8636\n",
      "Epoch 117/150\n",
      "15/15 [==============================] - 0s 14ms/step - loss: 1.1209 - mae: 0.7857\n",
      "Epoch 118/150\n",
      "15/15 [==============================] - 0s 14ms/step - loss: 1.1697 - mae: 0.8046\n",
      "Epoch 119/150\n",
      "15/15 [==============================] - 0s 14ms/step - loss: 1.1603 - mae: 0.8236\n",
      "Epoch 120/150\n",
      "15/15 [==============================] - 0s 13ms/step - loss: 1.2841 - mae: 0.8784\n",
      "Epoch 121/150\n",
      "15/15 [==============================] - 0s 14ms/step - loss: 1.0736 - mae: 0.7826\n",
      "Epoch 122/150\n",
      "15/15 [==============================] - 0s 15ms/step - loss: 1.1064 - mae: 0.7709\n",
      "Epoch 123/150\n",
      "15/15 [==============================] - 0s 14ms/step - loss: 1.1422 - mae: 0.8016\n",
      "Epoch 124/150\n",
      "15/15 [==============================] - 0s 14ms/step - loss: 1.0863 - mae: 0.7967\n",
      "Epoch 125/150\n",
      "15/15 [==============================] - 0s 17ms/step - loss: 1.1615 - mae: 0.8108\n",
      "Epoch 126/150\n",
      "15/15 [==============================] - 0s 17ms/step - loss: 1.2840 - mae: 0.8753\n",
      "Epoch 127/150\n",
      "15/15 [==============================] - 0s 14ms/step - loss: 1.1654 - mae: 0.8370\n",
      "Epoch 128/150\n",
      "15/15 [==============================] - 0s 16ms/step - loss: 1.0535 - mae: 0.7818\n",
      "Epoch 129/150\n",
      "15/15 [==============================] - 0s 19ms/step - loss: 1.1188 - mae: 0.8300\n",
      "Epoch 130/150\n",
      "15/15 [==============================] - 0s 17ms/step - loss: 1.1246 - mae: 0.8072\n",
      "Epoch 131/150\n",
      "15/15 [==============================] - 0s 18ms/step - loss: 1.2297 - mae: 0.8349\n",
      "Epoch 132/150\n",
      "15/15 [==============================] - 0s 17ms/step - loss: 1.0810 - mae: 0.7829\n",
      "Epoch 133/150\n",
      "15/15 [==============================] - 0s 14ms/step - loss: 1.0471 - mae: 0.7618\n",
      "Epoch 134/150\n",
      "15/15 [==============================] - 0s 14ms/step - loss: 1.0944 - mae: 0.7831\n",
      "Epoch 135/150\n",
      "15/15 [==============================] - 0s 14ms/step - loss: 1.1214 - mae: 0.8083\n",
      "Epoch 136/150\n",
      "15/15 [==============================] - 0s 14ms/step - loss: 1.0758 - mae: 0.7877\n",
      "Epoch 137/150\n",
      "15/15 [==============================] - 0s 14ms/step - loss: 1.1317 - mae: 0.7980\n",
      "Epoch 138/150\n",
      "15/15 [==============================] - 0s 14ms/step - loss: 1.0675 - mae: 0.7611\n",
      "Epoch 139/150\n",
      "15/15 [==============================] - 0s 14ms/step - loss: 1.1330 - mae: 0.8014\n",
      "Epoch 140/150\n",
      "15/15 [==============================] - 0s 13ms/step - loss: 1.0909 - mae: 0.7732\n",
      "Epoch 141/150\n",
      "15/15 [==============================] - 0s 13ms/step - loss: 1.0648 - mae: 0.7745\n",
      "Epoch 142/150\n",
      "15/15 [==============================] - 0s 14ms/step - loss: 1.2126 - mae: 0.8301\n",
      "Epoch 143/150\n",
      "15/15 [==============================] - 0s 14ms/step - loss: 1.1760 - mae: 0.8268\n",
      "Epoch 144/150\n",
      "15/15 [==============================] - 0s 14ms/step - loss: 1.0966 - mae: 0.7905\n",
      "Epoch 145/150\n",
      "15/15 [==============================] - 0s 14ms/step - loss: 1.0617 - mae: 0.7959\n",
      "Epoch 146/150\n",
      "15/15 [==============================] - 0s 14ms/step - loss: 1.2242 - mae: 0.8243\n",
      "Epoch 147/150\n",
      "15/15 [==============================] - 0s 14ms/step - loss: 1.1094 - mae: 0.7799\n",
      "Epoch 148/150\n",
      "15/15 [==============================] - 0s 14ms/step - loss: 1.1243 - mae: 0.7945\n",
      "Epoch 149/150\n",
      "15/15 [==============================] - 0s 14ms/step - loss: 1.1920 - mae: 0.8303\n",
      "Epoch 150/150\n",
      "15/15 [==============================] - 0s 14ms/step - loss: 1.1189 - mae: 0.7845\n"
     ]
    },
    {
     "data": {
      "text/plain": [
       "<tensorflow.python.keras.callbacks.History at 0x7fee1adea950>"
      ]
     },
     "execution_count": 48,
     "metadata": {},
     "output_type": "execute_result"
    }
   ],
   "source": [
    "lstm.fit(trainDataVecs, y_train, batch_size=64, epochs=150)"
   ]
  },
  {
   "cell_type": "code",
   "execution_count": 49,
   "id": "whole-latino",
   "metadata": {
    "execution": {
     "iopub.execute_input": "2021-06-21T10:22:49.186466Z",
     "iopub.status.busy": "2021-06-21T10:22:49.185913Z",
     "iopub.status.idle": "2021-06-21T10:22:49.187752Z",
     "shell.execute_reply": "2021-06-21T10:22:49.188209Z",
     "shell.execute_reply.started": "2021-06-21T10:21:25.251250Z"
    },
    "papermill": {
     "duration": 0.324861,
     "end_time": "2021-06-21T10:22:49.188353",
     "exception": false,
     "start_time": "2021-06-21T10:22:48.863492",
     "status": "completed"
    },
    "tags": []
   },
   "outputs": [],
   "source": [
    "#validation_data = (testDataVecs,y_test),"
   ]
  },
  {
   "cell_type": "code",
   "execution_count": 50,
   "id": "monetary-single",
   "metadata": {
    "execution": {
     "iopub.execute_input": "2021-06-21T10:22:49.849226Z",
     "iopub.status.busy": "2021-06-21T10:22:49.848646Z",
     "iopub.status.idle": "2021-06-21T10:22:50.313660Z",
     "shell.execute_reply": "2021-06-21T10:22:50.314366Z",
     "shell.execute_reply.started": "2021-06-21T10:21:25.691104Z"
    },
    "papermill": {
     "duration": 0.787075,
     "end_time": "2021-06-21T10:22:50.314526",
     "exception": false,
     "start_time": "2021-06-21T10:22:49.527451",
     "status": "completed"
    },
    "tags": []
   },
   "outputs": [],
   "source": [
    "y_pred = lstm.predict(testDataVecs)\n",
    "y_pred = np.around(y_pred)\n",
    "#y_pred"
   ]
  },
  {
   "cell_type": "code",
   "execution_count": 51,
   "id": "extensive-director",
   "metadata": {
    "execution": {
     "iopub.execute_input": "2021-06-21T10:22:50.946632Z",
     "iopub.status.busy": "2021-06-21T10:22:50.946079Z",
     "iopub.status.idle": "2021-06-21T10:22:50.950186Z",
     "shell.execute_reply": "2021-06-21T10:22:50.950719Z",
     "shell.execute_reply.started": "2021-06-21T10:21:27.130969Z"
    },
    "papermill": {
     "duration": 0.323006,
     "end_time": "2021-06-21T10:22:50.950870",
     "exception": false,
     "start_time": "2021-06-21T10:22:50.627864",
     "status": "completed"
    },
    "tags": []
   },
   "outputs": [],
   "source": [
    "from sklearn.metrics import r2_score\n",
    "acc = r2_score(y_test, y_pred)"
   ]
  },
  {
   "cell_type": "code",
   "execution_count": 52,
   "id": "conventional-theology",
   "metadata": {
    "execution": {
     "iopub.execute_input": "2021-06-21T10:22:51.595652Z",
     "iopub.status.busy": "2021-06-21T10:22:51.595016Z",
     "iopub.status.idle": "2021-06-21T10:22:51.599268Z",
     "shell.execute_reply": "2021-06-21T10:22:51.599823Z",
     "shell.execute_reply.started": "2021-06-21T10:21:27.941516Z"
    },
    "papermill": {
     "duration": 0.32795,
     "end_time": "2021-06-21T10:22:51.599993",
     "exception": false,
     "start_time": "2021-06-21T10:22:51.272043",
     "status": "completed"
    },
    "tags": []
   },
   "outputs": [
    {
     "data": {
      "text/plain": [
       "-0.07625627004501223"
      ]
     },
     "execution_count": 52,
     "metadata": {},
     "output_type": "execute_result"
    }
   ],
   "source": [
    "acc"
   ]
  },
  {
   "cell_type": "code",
   "execution_count": 53,
   "id": "weighted-theorem",
   "metadata": {
    "execution": {
     "iopub.execute_input": "2021-06-21T10:22:52.243117Z",
     "iopub.status.busy": "2021-06-21T10:22:52.242505Z",
     "iopub.status.idle": "2021-06-21T10:22:52.245485Z",
     "shell.execute_reply": "2021-06-21T10:22:52.246002Z",
     "shell.execute_reply.started": "2021-06-20T12:05:29.186494Z"
    },
    "papermill": {
     "duration": 0.327513,
     "end_time": "2021-06-21T10:22:52.246152",
     "exception": false,
     "start_time": "2021-06-21T10:22:51.918639",
     "status": "completed"
    },
    "tags": []
   },
   "outputs": [],
   "source": [
    "#y_pred"
   ]
  },
  {
   "cell_type": "code",
   "execution_count": 54,
   "id": "gross-cable",
   "metadata": {
    "execution": {
     "iopub.execute_input": "2021-06-21T10:22:52.885866Z",
     "iopub.status.busy": "2021-06-21T10:22:52.885273Z",
     "iopub.status.idle": "2021-06-21T10:22:52.890848Z",
     "shell.execute_reply": "2021-06-21T10:22:52.890360Z",
     "shell.execute_reply.started": "2021-06-20T11:29:50.749534Z"
    },
    "papermill": {
     "duration": 0.322448,
     "end_time": "2021-06-21T10:22:52.890983",
     "exception": false,
     "start_time": "2021-06-21T10:22:52.568535",
     "status": "completed"
    },
    "tags": []
   },
   "outputs": [
    {
     "data": {
      "text/plain": [
       "'from sklearn.decomposition import PCA\\npca = PCA(n_components=300)\\nx = pca.fit(x_train)'"
      ]
     },
     "execution_count": 54,
     "metadata": {},
     "output_type": "execute_result"
    }
   ],
   "source": [
    "\"\"\"from sklearn.decomposition import PCA\n",
    "pca = PCA(n_components=300)\n",
    "x = pca.fit(x_train)\"\"\""
   ]
  },
  {
   "cell_type": "code",
   "execution_count": 55,
   "id": "infectious-pizza",
   "metadata": {
    "execution": {
     "iopub.execute_input": "2021-06-21T10:22:53.530121Z",
     "iopub.status.busy": "2021-06-21T10:22:53.529436Z",
     "iopub.status.idle": "2021-06-21T10:22:53.531918Z",
     "shell.execute_reply": "2021-06-21T10:22:53.532374Z",
     "shell.execute_reply.started": "2021-06-20T11:15:09.419224Z"
    },
    "papermill": {
     "duration": 0.323863,
     "end_time": "2021-06-21T10:22:53.532536",
     "exception": false,
     "start_time": "2021-06-21T10:22:53.208673",
     "status": "completed"
    },
    "tags": []
   },
   "outputs": [
    {
     "data": {
      "text/plain": [
       "'.toarray()\\n.toarray()\\nx_train = x_train[None:, :,]\\nx_test = x_test[None:, :, ]'"
      ]
     },
     "execution_count": 55,
     "metadata": {},
     "output_type": "execute_result"
    }
   ],
   "source": [
    "\"\"\".toarray()\n",
    ".toarray()\n",
    "x_train = x_train[None:, :,]\n",
    "x_test = x_test[None:, :, ]\"\"\""
   ]
  },
  {
   "cell_type": "code",
   "execution_count": null,
   "id": "cleared-davis",
   "metadata": {
    "execution": {
     "iopub.execute_input": "2021-06-20T11:15:11.283712Z",
     "iopub.status.busy": "2021-06-20T11:15:11.283044Z",
     "iopub.status.idle": "2021-06-20T11:15:11.289954Z",
     "shell.execute_reply": "2021-06-20T11:15:11.289128Z",
     "shell.execute_reply.started": "2021-06-20T11:15:11.283652Z"
    },
    "papermill": {
     "duration": 0.317908,
     "end_time": "2021-06-21T10:22:54.171076",
     "exception": false,
     "start_time": "2021-06-21T10:22:53.853168",
     "status": "completed"
    },
    "tags": []
   },
   "outputs": [],
   "source": []
  },
  {
   "cell_type": "code",
   "execution_count": 56,
   "id": "atomic-secondary",
   "metadata": {
    "execution": {
     "iopub.execute_input": "2021-06-21T10:22:54.814754Z",
     "iopub.status.busy": "2021-06-21T10:22:54.814137Z",
     "iopub.status.idle": "2021-06-21T10:22:54.818069Z",
     "shell.execute_reply": "2021-06-21T10:22:54.818516Z",
     "shell.execute_reply.started": "2021-06-20T10:30:18.323546Z"
    },
    "papermill": {
     "duration": 0.329181,
     "end_time": "2021-06-21T10:22:54.818700",
     "exception": false,
     "start_time": "2021-06-21T10:22:54.489519",
     "status": "completed"
    },
    "tags": []
   },
   "outputs": [
    {
     "data": {
      "text/plain": [
       "'from sklearn.linear_model import LinearRegression\\nfrom sklearn.metrics import mean_squared_error\\nfrom sklearn.metrics import r2_score\\nlr = LinearRegression().fit(x_train, d1.evaluator_rating)\\ny_pred = lr.predict(x_test)\\nmse = r2_score(d2.evaluator_rating, y_pred)\\nmse'"
      ]
     },
     "execution_count": 56,
     "metadata": {},
     "output_type": "execute_result"
    }
   ],
   "source": [
    "\"\"\"from sklearn.linear_model import LinearRegression\n",
    "from sklearn.metrics import mean_squared_error\n",
    "from sklearn.metrics import r2_score\n",
    "lr = LinearRegression().fit(x_train, d1.evaluator_rating)\n",
    "y_pred = lr.predict(x_test)\n",
    "mse = r2_score(d2.evaluator_rating, y_pred)\n",
    "mse\"\"\""
   ]
  },
  {
   "cell_type": "code",
   "execution_count": 57,
   "id": "classical-resort",
   "metadata": {
    "execution": {
     "iopub.execute_input": "2021-06-21T10:22:55.468701Z",
     "iopub.status.busy": "2021-06-21T10:22:55.468071Z",
     "iopub.status.idle": "2021-06-21T10:22:55.471810Z",
     "shell.execute_reply": "2021-06-21T10:22:55.472271Z",
     "shell.execute_reply.started": "2021-06-20T10:30:21.404078Z"
    },
    "papermill": {
     "duration": 0.328797,
     "end_time": "2021-06-21T10:22:55.472428",
     "exception": false,
     "start_time": "2021-06-21T10:22:55.143631",
     "status": "completed"
    },
    "tags": []
   },
   "outputs": [
    {
     "data": {
      "text/plain": [
       "'from sklearn.linear_model import Ridge\\nrd = Ridge().fit(x_train, d1.evaluator_rating)\\ny_pred1 = rd.predict(x_test)\\nmse1 = r2_score(d2.evaluator_rating,y_pred1)\\nmse1'"
      ]
     },
     "execution_count": 57,
     "metadata": {},
     "output_type": "execute_result"
    }
   ],
   "source": [
    "\"\"\"from sklearn.linear_model import Ridge\n",
    "rd = Ridge().fit(x_train, d1.evaluator_rating)\n",
    "y_pred1 = rd.predict(x_test)\n",
    "mse1 = r2_score(d2.evaluator_rating,y_pred1)\n",
    "mse1\"\"\""
   ]
  },
  {
   "cell_type": "code",
   "execution_count": 58,
   "id": "after-proof",
   "metadata": {
    "execution": {
     "iopub.execute_input": "2021-06-21T10:22:56.107404Z",
     "iopub.status.busy": "2021-06-21T10:22:56.106818Z",
     "iopub.status.idle": "2021-06-21T10:22:56.110929Z",
     "shell.execute_reply": "2021-06-21T10:22:56.111375Z",
     "shell.execute_reply.started": "2021-06-20T10:44:38.608656Z"
    },
    "papermill": {
     "duration": 0.32361,
     "end_time": "2021-06-21T10:22:56.111529",
     "exception": false,
     "start_time": "2021-06-21T10:22:55.787919",
     "status": "completed"
    },
    "tags": []
   },
   "outputs": [
    {
     "data": {
      "text/plain": [
       "'import pandas as pd\\nimport numpy as np\\nimport matplotlib.pyplot as plt\\nimport seaborn as sns\\nfrom sklearn.model_selection import train_test_split\\nfrom sklearn.preprocessing import LabelEncoder\\nfrom keras.models import Model\\nfrom keras.layers import LSTM, Activation, Dense, Dropout, Input, Embedding,Bidirectional,BatchNormalization\\nfrom keras.optimizers import RMSprop\\nfrom keras.preprocessing.text import Tokenizer\\nfrom keras.preprocessing import sequence\\nfrom keras.utils import to_categorical\\nfrom keras.callbacks import EarlyStopping\\nfrom keras.utils import  to_categorical'"
      ]
     },
     "execution_count": 58,
     "metadata": {},
     "output_type": "execute_result"
    }
   ],
   "source": [
    "\"\"\"import pandas as pd\n",
    "import numpy as np\n",
    "import matplotlib.pyplot as plt\n",
    "import seaborn as sns\n",
    "from sklearn.model_selection import train_test_split\n",
    "from sklearn.preprocessing import LabelEncoder\n",
    "from keras.models import Model\n",
    "from keras.layers import LSTM, Activation, Dense, Dropout, Input, Embedding,Bidirectional,BatchNormalization\n",
    "from keras.optimizers import RMSprop\n",
    "from keras.preprocessing.text import Tokenizer\n",
    "from keras.preprocessing import sequence\n",
    "from keras.utils import to_categorical\n",
    "from keras.callbacks import EarlyStopping\n",
    "from keras.utils import  to_categorical\"\"\""
   ]
  },
  {
   "cell_type": "code",
   "execution_count": 59,
   "id": "individual-train",
   "metadata": {
    "execution": {
     "iopub.execute_input": "2021-06-21T10:22:56.739012Z",
     "iopub.status.busy": "2021-06-21T10:22:56.738431Z",
     "iopub.status.idle": "2021-06-21T10:22:56.743435Z",
     "shell.execute_reply": "2021-06-21T10:22:56.743956Z",
     "shell.execute_reply.started": "2021-06-20T11:00:46.28914Z"
    },
    "papermill": {
     "duration": 0.322359,
     "end_time": "2021-06-21T10:22:56.744101",
     "exception": false,
     "start_time": "2021-06-21T10:22:56.421742",
     "status": "completed"
    },
    "tags": []
   },
   "outputs": [
    {
     "data": {
      "text/plain": [
       "\"max_words = 2500\\nmax_len = 500\\ndef RNN():\\n    inputs = Input(name='inputs',shape=[max_len])\\n    layer = Embedding(max_words,50,input_length=max_len)(inputs)\\n    layer = Bidirectional(LSTM(64))(layer)\\n    #layer = Bidirectional(LSTM(128))(layer)\\n    layer = Dense(64,name='FC1')(layer)\\n    #layer=BatchNormalization()(layer)\\n    layer = Activation('relu')(layer)\\n    layer = Dropout(0.5)(layer)\\n    layer = Dense(64,name='FC2')(layer)\\n    #layer=BatchNormalization()(layer)\\n    layer = Activation('relu')(layer)\\n    layer = Dropout(0.5)(layer)\\n    layer = Dense(4,name='out_layer')(layer)\\n    layer = Activation('softmax')(layer)\\n    model = Model(inputs=inputs,outputs=layer)\\n    return model\""
      ]
     },
     "execution_count": 59,
     "metadata": {},
     "output_type": "execute_result"
    }
   ],
   "source": [
    "\"\"\"max_words = 2500\n",
    "max_len = 500\n",
    "def RNN():\n",
    "    inputs = Input(name='inputs',shape=[max_len])\n",
    "    layer = Embedding(max_words,50,input_length=max_len)(inputs)\n",
    "    layer = Bidirectional(LSTM(64))(layer)\n",
    "    #layer = Bidirectional(LSTM(128))(layer)\n",
    "    layer = Dense(64,name='FC1')(layer)\n",
    "    #layer=BatchNormalization()(layer)\n",
    "    layer = Activation('relu')(layer)\n",
    "    layer = Dropout(0.5)(layer)\n",
    "    layer = Dense(64,name='FC2')(layer)\n",
    "    #layer=BatchNormalization()(layer)\n",
    "    layer = Activation('relu')(layer)\n",
    "    layer = Dropout(0.5)(layer)\n",
    "    layer = Dense(4,name='out_layer')(layer)\n",
    "    layer = Activation('softmax')(layer)\n",
    "    model = Model(inputs=inputs,outputs=layer)\n",
    "    return model\"\"\""
   ]
  },
  {
   "cell_type": "code",
   "execution_count": 60,
   "id": "nasty-salvation",
   "metadata": {
    "execution": {
     "iopub.execute_input": "2021-06-21T10:22:57.375620Z",
     "iopub.status.busy": "2021-06-21T10:22:57.374728Z",
     "iopub.status.idle": "2021-06-21T10:22:57.379880Z",
     "shell.execute_reply": "2021-06-21T10:22:57.380339Z",
     "shell.execute_reply.started": "2021-06-20T11:00:47.298515Z"
    },
    "papermill": {
     "duration": 0.320441,
     "end_time": "2021-06-21T10:22:57.380487",
     "exception": false,
     "start_time": "2021-06-21T10:22:57.060046",
     "status": "completed"
    },
    "tags": []
   },
   "outputs": [
    {
     "data": {
      "text/plain": [
       "\"model = RNN()\\nprint(model.summary())\\nmodel.compile(loss='categorical_crossentropy',optimizer=RMSprop(),metrics=['accuracy'])\\n\\nmodel.fit(x_train, d1.evaluator_rating,batch_size=64,epochs=2,validation_data=(x_test,d2.evaluator_rating))\""
      ]
     },
     "execution_count": 60,
     "metadata": {},
     "output_type": "execute_result"
    }
   ],
   "source": [
    "\"\"\"model = RNN()\n",
    "print(model.summary())\n",
    "model.compile(loss='categorical_crossentropy',optimizer=RMSprop(),metrics=['accuracy'])\n",
    "\n",
    "model.fit(x_train, d1.evaluator_rating,batch_size=64,epochs=2,validation_data=(x_test,d2.evaluator_rating))\"\"\""
   ]
  },
  {
   "cell_type": "code",
   "execution_count": null,
   "id": "cleared-shadow",
   "metadata": {
    "papermill": {
     "duration": 0.311998,
     "end_time": "2021-06-21T10:22:58.010640",
     "exception": false,
     "start_time": "2021-06-21T10:22:57.698642",
     "status": "completed"
    },
    "tags": []
   },
   "outputs": [],
   "source": []
  },
  {
   "cell_type": "code",
   "execution_count": 61,
   "id": "bored-innocent",
   "metadata": {
    "execution": {
     "iopub.execute_input": "2021-06-21T10:22:58.651124Z",
     "iopub.status.busy": "2021-06-21T10:22:58.650421Z",
     "iopub.status.idle": "2021-06-21T10:22:58.653724Z",
     "shell.execute_reply": "2021-06-21T10:22:58.653211Z",
     "shell.execute_reply.started": "2021-06-20T08:33:53.769802Z"
    },
    "papermill": {
     "duration": 0.323768,
     "end_time": "2021-06-21T10:22:58.653855",
     "exception": false,
     "start_time": "2021-06-21T10:22:58.330087",
     "status": "completed"
    },
    "tags": []
   },
   "outputs": [
    {
     "data": {
      "text/plain": [
       "'import numpy as np\\nimport pandas as pd\\nimport nltk\\nimport re\\nfrom nltk.corpus import stopwords\\nfrom nltk.tokenize import sent_tokenize,word_tokenize\\nfrom gensim.models import Word2Vec\\nfrom keras.layers import Embedding, LSTM, Dense, Dropout, Lambda, Flatten\\nfrom keras.models import Sequential, load_model, model_from_config\\nimport keras.backend as K\\nfrom sklearn.model_selection import train_test_split\\nfrom sklearn.metrics import mean_squared_error\\nfrom sklearn.metrics import cohen_kappa_score'"
      ]
     },
     "execution_count": 61,
     "metadata": {},
     "output_type": "execute_result"
    }
   ],
   "source": [
    "\"\"\"import numpy as np\n",
    "import pandas as pd\n",
    "import nltk\n",
    "import re\n",
    "from nltk.corpus import stopwords\n",
    "from nltk.tokenize import sent_tokenize,word_tokenize\n",
    "from gensim.models import Word2Vec\n",
    "from keras.layers import Embedding, LSTM, Dense, Dropout, Lambda, Flatten\n",
    "from keras.models import Sequential, load_model, model_from_config\n",
    "import keras.backend as K\n",
    "from sklearn.model_selection import train_test_split\n",
    "from sklearn.metrics import mean_squared_error\n",
    "from sklearn.metrics import cohen_kappa_score\"\"\""
   ]
  },
  {
   "cell_type": "code",
   "execution_count": 62,
   "id": "rising-marks",
   "metadata": {
    "execution": {
     "iopub.execute_input": "2021-06-21T10:22:59.289938Z",
     "iopub.status.busy": "2021-06-21T10:22:59.289109Z",
     "iopub.status.idle": "2021-06-21T10:22:59.295073Z",
     "shell.execute_reply": "2021-06-21T10:22:59.294623Z"
    },
    "papermill": {
     "duration": 0.32654,
     "end_time": "2021-06-21T10:22:59.295416",
     "exception": false,
     "start_time": "2021-06-21T10:22:58.968876",
     "status": "completed"
    },
    "tags": []
   },
   "outputs": [
    {
     "data": {
      "text/plain": [
       "\"from keras.layers import Embedding, LSTM, Dense, Dropout, Lambda, Flatten\\nfrom keras.models import Sequential, load_model, model_from_config\\n\\ndef get_model():\\n    model = Sequential()\\n    model.add(LSTM(17980, dropout=0.4, recurrent_dropout=0.4, input_shape=[1,17980], return_sequences=True))\\n    model.add(LSTM(64, recurrent_dropout=0.4))\\n    model.add(Dropout(0.5))\\n    model.add(Dense(1, activation='relu'))\\n    model.compile(loss='mean_squared_error', optimizer='rmsprop', metrics=['mae'])\\n    model.summary()\\n    return model\\nlstm = get_model()\""
      ]
     },
     "execution_count": 62,
     "metadata": {},
     "output_type": "execute_result"
    }
   ],
   "source": [
    "\"\"\"from keras.layers import Embedding, LSTM, Dense, Dropout, Lambda, Flatten\n",
    "from keras.models import Sequential, load_model, model_from_config\n",
    "\n",
    "def get_model():\n",
    "    model = Sequential()\n",
    "    model.add(LSTM(17980, dropout=0.4, recurrent_dropout=0.4, input_shape=[1,17980], return_sequences=True))\n",
    "    model.add(LSTM(64, recurrent_dropout=0.4))\n",
    "    model.add(Dropout(0.5))\n",
    "    model.add(Dense(1, activation='relu'))\n",
    "    model.compile(loss='mean_squared_error', optimizer='rmsprop', metrics=['mae'])\n",
    "    model.summary()\n",
    "    return model\n",
    "lstm = get_model()\"\"\""
   ]
  },
  {
   "cell_type": "code",
   "execution_count": 63,
   "id": "worthy-experience",
   "metadata": {
    "execution": {
     "iopub.execute_input": "2021-06-21T10:22:59.986073Z",
     "iopub.status.busy": "2021-06-21T10:22:59.985425Z",
     "iopub.status.idle": "2021-06-21T10:22:59.987838Z",
     "shell.execute_reply": "2021-06-21T10:22:59.988313Z",
     "shell.execute_reply.started": "2021-06-20T10:26:56.948388Z"
    },
    "papermill": {
     "duration": 0.331726,
     "end_time": "2021-06-21T10:22:59.988465",
     "exception": false,
     "start_time": "2021-06-21T10:22:59.656739",
     "status": "completed"
    },
    "tags": []
   },
   "outputs": [
    {
     "data": {
      "text/plain": [
       "'y_train = d1.evaluator_rating'"
      ]
     },
     "execution_count": 63,
     "metadata": {},
     "output_type": "execute_result"
    }
   ],
   "source": [
    "\"\"\"y_train = d1.evaluator_rating\"\"\""
   ]
  },
  {
   "cell_type": "code",
   "execution_count": 64,
   "id": "thermal-namibia",
   "metadata": {
    "execution": {
     "iopub.execute_input": "2021-06-21T10:23:00.647759Z",
     "iopub.status.busy": "2021-06-21T10:23:00.647168Z",
     "iopub.status.idle": "2021-06-21T10:23:00.651159Z",
     "shell.execute_reply": "2021-06-21T10:23:00.651611Z",
     "shell.execute_reply.started": "2021-06-20T10:27:17.808544Z"
    },
    "papermill": {
     "duration": 0.344624,
     "end_time": "2021-06-21T10:23:00.651753",
     "exception": false,
     "start_time": "2021-06-21T10:23:00.307129",
     "status": "completed"
    },
    "tags": []
   },
   "outputs": [
    {
     "data": {
      "text/plain": [
       "'x_train.shape'"
      ]
     },
     "execution_count": 64,
     "metadata": {},
     "output_type": "execute_result"
    }
   ],
   "source": [
    "\"\"\"x_train.shape\"\"\""
   ]
  },
  {
   "cell_type": "code",
   "execution_count": 65,
   "id": "coordinated-pilot",
   "metadata": {
    "execution": {
     "iopub.execute_input": "2021-06-21T10:23:01.292471Z",
     "iopub.status.busy": "2021-06-21T10:23:01.291852Z",
     "iopub.status.idle": "2021-06-21T10:23:01.295761Z",
     "shell.execute_reply": "2021-06-21T10:23:01.296179Z",
     "shell.execute_reply.started": "2021-06-20T11:01:14.604051Z"
    },
    "papermill": {
     "duration": 0.327275,
     "end_time": "2021-06-21T10:23:01.296322",
     "exception": false,
     "start_time": "2021-06-21T10:23:00.969047",
     "status": "completed"
    },
    "tags": []
   },
   "outputs": [
    {
     "data": {
      "text/plain": [
       "'lstm.fit(x_train, d1.evaluator_rating , batch_size=64, epochs=1)'"
      ]
     },
     "execution_count": 65,
     "metadata": {},
     "output_type": "execute_result"
    }
   ],
   "source": [
    "\"\"\"lstm.fit(x_train, d1.evaluator_rating , batch_size=64, epochs=1)\"\"\""
   ]
  },
  {
   "cell_type": "code",
   "execution_count": 66,
   "id": "elder-literature",
   "metadata": {
    "execution": {
     "iopub.execute_input": "2021-06-21T10:23:01.929388Z",
     "iopub.status.busy": "2021-06-21T10:23:01.928832Z",
     "iopub.status.idle": "2021-06-21T10:23:01.933612Z",
     "shell.execute_reply": "2021-06-21T10:23:01.934070Z",
     "shell.execute_reply.started": "2021-06-20T08:10:21.915483Z"
    },
    "papermill": {
     "duration": 0.321481,
     "end_time": "2021-06-21T10:23:01.934204",
     "exception": false,
     "start_time": "2021-06-21T10:23:01.612723",
     "status": "completed"
    },
    "tags": []
   },
   "outputs": [
    {
     "data": {
      "text/plain": [
       "'d1.evaluator_rating'"
      ]
     },
     "execution_count": 66,
     "metadata": {},
     "output_type": "execute_result"
    }
   ],
   "source": [
    "\"\"\"d1.evaluator_rating\"\"\""
   ]
  },
  {
   "cell_type": "code",
   "execution_count": null,
   "id": "dying-firewall",
   "metadata": {
    "execution": {
     "iopub.execute_input": "2021-06-20T08:10:37.275307Z",
     "iopub.status.busy": "2021-06-20T08:10:37.274841Z",
     "iopub.status.idle": "2021-06-20T08:10:37.280663Z",
     "shell.execute_reply": "2021-06-20T08:10:37.279771Z",
     "shell.execute_reply.started": "2021-06-20T08:10:37.275276Z"
    },
    "papermill": {
     "duration": 0.329239,
     "end_time": "2021-06-21T10:23:02.582715",
     "exception": false,
     "start_time": "2021-06-21T10:23:02.253476",
     "status": "completed"
    },
    "tags": []
   },
   "outputs": [],
   "source": []
  },
  {
   "cell_type": "code",
   "execution_count": null,
   "id": "funky-vault",
   "metadata": {
    "papermill": {
     "duration": 0.323073,
     "end_time": "2021-06-21T10:23:03.230406",
     "exception": false,
     "start_time": "2021-06-21T10:23:02.907333",
     "status": "completed"
    },
    "tags": []
   },
   "outputs": [],
   "source": []
  },
  {
   "cell_type": "code",
   "execution_count": 67,
   "id": "proper-trailer",
   "metadata": {
    "execution": {
     "iopub.execute_input": "2021-06-21T10:23:03.878775Z",
     "iopub.status.busy": "2021-06-21T10:23:03.878160Z",
     "iopub.status.idle": "2021-06-21T10:23:03.881183Z",
     "shell.execute_reply": "2021-06-21T10:23:03.881677Z",
     "shell.execute_reply.started": "2021-06-19T18:23:51.616893Z"
    },
    "papermill": {
     "duration": 0.32582,
     "end_time": "2021-06-21T10:23:03.881833",
     "exception": false,
     "start_time": "2021-06-21T10:23:03.556013",
     "status": "completed"
    },
    "tags": []
   },
   "outputs": [
    {
     "data": {
      "text/plain": [
       "'w2v_model.build_vocab(d1[\"essay\"], progress_per=10000)\\nw2v_model.train(d1[\"essay\"], total_examples=w2v_model.corpus_count, epochs=30, report_delay=1)'"
      ]
     },
     "execution_count": 67,
     "metadata": {},
     "output_type": "execute_result"
    }
   ],
   "source": [
    "\"\"\"w2v_model.build_vocab(d1[\"essay\"], progress_per=10000)\n",
    "w2v_model.train(d1[\"essay\"], total_examples=w2v_model.corpus_count, epochs=30, report_delay=1)\"\"\""
   ]
  },
  {
   "cell_type": "code",
   "execution_count": 68,
   "id": "political-melissa",
   "metadata": {
    "execution": {
     "iopub.execute_input": "2021-06-21T10:23:04.526649Z",
     "iopub.status.busy": "2021-06-21T10:23:04.525977Z",
     "iopub.status.idle": "2021-06-21T10:23:04.528749Z",
     "shell.execute_reply": "2021-06-21T10:23:04.529375Z",
     "shell.execute_reply.started": "2021-06-21T06:29:14.411841Z"
    },
    "papermill": {
     "duration": 0.327539,
     "end_time": "2021-06-21T10:23:04.529619",
     "exception": false,
     "start_time": "2021-06-21T10:23:04.202080",
     "status": "completed"
    },
    "tags": []
   },
   "outputs": [
    {
     "data": {
      "text/plain": [
       "'model = Word2Vec(sentences=d1[\"essay\"], vector_size = 300, window=5, min_count=1, workers=4)\\nmodel.init_sims(replace=True)\\nmodel.save(\"word2vec.model\")\\n'"
      ]
     },
     "execution_count": 68,
     "metadata": {},
     "output_type": "execute_result"
    }
   ],
   "source": [
    "\n",
    "\"\"\"model = Word2Vec(sentences=d1[\"essay\"], vector_size = 300, window=5, min_count=1, workers=4)\n",
    "model.init_sims(replace=True)\n",
    "model.save(\"word2vec.model\")\n",
    "\"\"\""
   ]
  },
  {
   "cell_type": "code",
   "execution_count": 69,
   "id": "respiratory-lucas",
   "metadata": {
    "execution": {
     "iopub.execute_input": "2021-06-21T10:23:05.177952Z",
     "iopub.status.busy": "2021-06-21T10:23:05.177379Z",
     "iopub.status.idle": "2021-06-21T10:23:05.180487Z",
     "shell.execute_reply": "2021-06-21T10:23:05.181081Z",
     "shell.execute_reply.started": "2021-06-20T20:06:22.586096Z"
    },
    "papermill": {
     "duration": 0.326831,
     "end_time": "2021-06-21T10:23:05.181239",
     "exception": false,
     "start_time": "2021-06-21T10:23:04.854408",
     "status": "completed"
    },
    "tags": []
   },
   "outputs": [],
   "source": [
    "#words = model.wv.vectors"
   ]
  },
  {
   "cell_type": "code",
   "execution_count": 70,
   "id": "confidential-relaxation",
   "metadata": {
    "execution": {
     "iopub.execute_input": "2021-06-21T10:23:05.817770Z",
     "iopub.status.busy": "2021-06-21T10:23:05.817151Z",
     "iopub.status.idle": "2021-06-21T10:23:05.820487Z",
     "shell.execute_reply": "2021-06-21T10:23:05.820935Z",
     "shell.execute_reply.started": "2021-06-20T20:06:24.436599Z"
    },
    "papermill": {
     "duration": 0.321896,
     "end_time": "2021-06-21T10:23:05.821087",
     "exception": false,
     "start_time": "2021-06-21T10:23:05.499191",
     "status": "completed"
    },
    "tags": []
   },
   "outputs": [],
   "source": [
    "#words.shape"
   ]
  },
  {
   "cell_type": "code",
   "execution_count": 71,
   "id": "backed-mounting",
   "metadata": {
    "execution": {
     "iopub.execute_input": "2021-06-21T10:23:06.452588Z",
     "iopub.status.busy": "2021-06-21T10:23:06.452019Z",
     "iopub.status.idle": "2021-06-21T10:23:06.455687Z",
     "shell.execute_reply": "2021-06-21T10:23:06.456186Z",
     "shell.execute_reply.started": "2021-06-20T20:06:17.926234Z"
    },
    "papermill": {
     "duration": 0.318376,
     "end_time": "2021-06-21T10:23:06.456348",
     "exception": false,
     "start_time": "2021-06-21T10:23:06.137972",
     "status": "completed"
    },
    "tags": []
   },
   "outputs": [],
   "source": [
    "#model.train(d1[\"essay\"],total_examples=model.corpus_count, epochs=1)"
   ]
  },
  {
   "cell_type": "code",
   "execution_count": 72,
   "id": "naughty-retrieval",
   "metadata": {
    "execution": {
     "iopub.execute_input": "2021-06-21T10:23:07.085669Z",
     "iopub.status.busy": "2021-06-21T10:23:07.085055Z",
     "iopub.status.idle": "2021-06-21T10:23:07.089326Z",
     "shell.execute_reply": "2021-06-21T10:23:07.089799Z",
     "shell.execute_reply.started": "2021-06-20T20:08:29.527139Z"
    },
    "papermill": {
     "duration": 0.322805,
     "end_time": "2021-06-21T10:23:07.089947",
     "exception": false,
     "start_time": "2021-06-21T10:23:06.767142",
     "status": "completed"
    },
    "tags": []
   },
   "outputs": [
    {
     "data": {
      "text/plain": [
       "'all_vectors = []\\nfor index, vector in enumerate(model.wv.vectors):\\n    vector_object = {}\\n    vector_object[list(model.wv.key_to_index)[index]] = vector\\n    all_vectors.append(vector_object)'"
      ]
     },
     "execution_count": 72,
     "metadata": {},
     "output_type": "execute_result"
    }
   ],
   "source": [
    "\"\"\"all_vectors = []\n",
    "for index, vector in enumerate(model.wv.vectors):\n",
    "    vector_object = {}\n",
    "    vector_object[list(model.wv.key_to_index)[index]] = vector\n",
    "    all_vectors.append(vector_object)\"\"\""
   ]
  },
  {
   "cell_type": "code",
   "execution_count": 73,
   "id": "modified-berry",
   "metadata": {
    "execution": {
     "iopub.execute_input": "2021-06-21T10:23:07.736289Z",
     "iopub.status.busy": "2021-06-21T10:23:07.735772Z",
     "iopub.status.idle": "2021-06-21T10:23:07.738535Z",
     "shell.execute_reply": "2021-06-21T10:23:07.739063Z",
     "shell.execute_reply.started": "2021-06-20T20:08:50.456936Z"
    },
    "papermill": {
     "duration": 0.322177,
     "end_time": "2021-06-21T10:23:07.739199",
     "exception": false,
     "start_time": "2021-06-21T10:23:07.417022",
     "status": "completed"
    },
    "tags": []
   },
   "outputs": [],
   "source": [
    "#len(all_vectors)"
   ]
  },
  {
   "cell_type": "code",
   "execution_count": null,
   "id": "anonymous-administrator",
   "metadata": {
    "execution": {
     "iopub.execute_input": "2021-06-21T07:26:26.813711Z",
     "iopub.status.busy": "2021-06-21T07:26:26.813368Z",
     "iopub.status.idle": "2021-06-21T07:26:26.832594Z",
     "shell.execute_reply": "2021-06-21T07:26:26.831581Z",
     "shell.execute_reply.started": "2021-06-21T07:26:26.813681Z"
    },
    "papermill": {
     "duration": 0.312068,
     "end_time": "2021-06-21T10:23:08.364883",
     "exception": false,
     "start_time": "2021-06-21T10:23:08.052815",
     "status": "completed"
    },
    "tags": []
   },
   "outputs": [],
   "source": []
  },
  {
   "cell_type": "code",
   "execution_count": null,
   "id": "apart-soccer",
   "metadata": {
    "execution": {
     "iopub.execute_input": "2021-06-21T07:10:54.292099Z",
     "iopub.status.busy": "2021-06-21T07:10:54.291541Z",
     "iopub.status.idle": "2021-06-21T07:10:56.322283Z",
     "shell.execute_reply": "2021-06-21T07:10:56.321492Z",
     "shell.execute_reply.started": "2021-06-21T07:10:54.29206Z"
    },
    "papermill": {
     "duration": 0.316149,
     "end_time": "2021-06-21T10:23:08.992307",
     "exception": false,
     "start_time": "2021-06-21T10:23:08.676158",
     "status": "completed"
    },
    "tags": []
   },
   "outputs": [],
   "source": []
  },
  {
   "cell_type": "code",
   "execution_count": 74,
   "id": "lyric-shoulder",
   "metadata": {
    "execution": {
     "iopub.execute_input": "2021-06-21T10:23:09.626143Z",
     "iopub.status.busy": "2021-06-21T10:23:09.625569Z",
     "iopub.status.idle": "2021-06-21T10:23:09.631584Z",
     "shell.execute_reply": "2021-06-21T10:23:09.632011Z",
     "shell.execute_reply.started": "2021-06-21T07:26:34.065396Z"
    },
    "papermill": {
     "duration": 0.321844,
     "end_time": "2021-06-21T10:23:09.632153",
     "exception": false,
     "start_time": "2021-06-21T10:23:09.310309",
     "status": "completed"
    },
    "tags": []
   },
   "outputs": [
    {
     "data": {
      "text/plain": [
       "'import gensim\\nfrom gensim.models import Word2Vec\\n\\nnum_features = 500 \\nmin_word_count = 40\\nnum_workers = 4\\ncontext = 10\\ndownsampling = 1e-3\\n\\nprint(\"Training Word2Vec Model...\")\\nmodel = Word2Vec(sentences, workers=num_workers, vector_size=num_features, min_count = min_word_count, window = context, sample = downsampling)\\n\\nmodel.init_sims(replace=True)\\nmodel.wv.save_word2vec_format(\\'word2vecmodel.bin\\', binary=True)\\n\\nclean_train_essays = []\\n    \\n# Generate training and testing data word vectors.\\nfor essay_v in d1.essay:\\n    clean_train_essays.append(essay_to_wordlist(essay_v, remove_stopwords=True))\\ntrainDataVecs = getAvgFeatureVecs(clean_train_essays, model, num_features)\\n    \\nclean_test_essays = []\\nfor essay_v in d2.essay:\\n    clean_test_essays.append(essay_to_wordlist( essay_v, remove_stopwords=True ))\\ntestDataVecs = getAvgFeatureVecs( clean_test_essays, model, num_features )\\n    \\ntrainDataVecs = np.array(trainDataVecs)\\ntestDataVecs = np.array(testDataVecs)\\n    # Reshaping train and test vectors to 3 dimensions. (1 represnts one timestep)\\ntrainDataVecs = np.reshape(trainDataVecs, (trainDataVecs.shape[0], 1, trainDataVecs.shape[1]))\\ntestDataVecs = np.reshape(testDataVecs, (testDataVecs.shape[0], 1, testDataVecs.shape[1]))\\n    \\n    #lstm_model = get_model()\\n    #lstm_model.fit(trainDataVecs, y_train, batch_size=64, epochs=50)'"
      ]
     },
     "execution_count": 74,
     "metadata": {},
     "output_type": "execute_result"
    }
   ],
   "source": [
    "\"\"\"import gensim\n",
    "from gensim.models import Word2Vec\n",
    "\n",
    "num_features = 500 \n",
    "min_word_count = 40\n",
    "num_workers = 4\n",
    "context = 10\n",
    "downsampling = 1e-3\n",
    "\n",
    "print(\"Training Word2Vec Model...\")\n",
    "model = Word2Vec(sentences, workers=num_workers, vector_size=num_features, min_count = min_word_count, window = context, sample = downsampling)\n",
    "\n",
    "model.init_sims(replace=True)\n",
    "model.wv.save_word2vec_format('word2vecmodel.bin', binary=True)\n",
    "\n",
    "clean_train_essays = []\n",
    "    \n",
    "# Generate training and testing data word vectors.\n",
    "for essay_v in d1.essay:\n",
    "    clean_train_essays.append(essay_to_wordlist(essay_v, remove_stopwords=True))\n",
    "trainDataVecs = getAvgFeatureVecs(clean_train_essays, model, num_features)\n",
    "    \n",
    "clean_test_essays = []\n",
    "for essay_v in d2.essay:\n",
    "    clean_test_essays.append(essay_to_wordlist( essay_v, remove_stopwords=True ))\n",
    "testDataVecs = getAvgFeatureVecs( clean_test_essays, model, num_features )\n",
    "    \n",
    "trainDataVecs = np.array(trainDataVecs)\n",
    "testDataVecs = np.array(testDataVecs)\n",
    "    # Reshaping train and test vectors to 3 dimensions. (1 represnts one timestep)\n",
    "trainDataVecs = np.reshape(trainDataVecs, (trainDataVecs.shape[0], 1, trainDataVecs.shape[1]))\n",
    "testDataVecs = np.reshape(testDataVecs, (testDataVecs.shape[0], 1, testDataVecs.shape[1]))\n",
    "    \n",
    "    #lstm_model = get_model()\n",
    "    #lstm_model.fit(trainDataVecs, y_train, batch_size=64, epochs=50)\"\"\""
   ]
  },
  {
   "cell_type": "code",
   "execution_count": 75,
   "id": "casual-sudan",
   "metadata": {
    "execution": {
     "iopub.execute_input": "2021-06-21T10:23:10.272568Z",
     "iopub.status.busy": "2021-06-21T10:23:10.271975Z",
     "iopub.status.idle": "2021-06-21T10:23:10.274746Z",
     "shell.execute_reply": "2021-06-21T10:23:10.274272Z",
     "shell.execute_reply.started": "2021-06-21T07:27:06.941063Z"
    },
    "papermill": {
     "duration": 0.325005,
     "end_time": "2021-06-21T10:23:10.274861",
     "exception": false,
     "start_time": "2021-06-21T10:23:09.949856",
     "status": "completed"
    },
    "tags": []
   },
   "outputs": [],
   "source": [
    "#trainDataVecs.shape"
   ]
  },
  {
   "cell_type": "code",
   "execution_count": 76,
   "id": "white-composition",
   "metadata": {
    "execution": {
     "iopub.execute_input": "2021-06-21T10:23:10.915078Z",
     "iopub.status.busy": "2021-06-21T10:23:10.914399Z",
     "iopub.status.idle": "2021-06-21T10:23:10.918426Z",
     "shell.execute_reply": "2021-06-21T10:23:10.918007Z",
     "shell.execute_reply.started": "2021-06-21T07:16:16.240822Z"
    },
    "papermill": {
     "duration": 0.319889,
     "end_time": "2021-06-21T10:23:10.918570",
     "exception": false,
     "start_time": "2021-06-21T10:23:10.598681",
     "status": "completed"
    },
    "tags": []
   },
   "outputs": [
    {
     "data": {
      "text/plain": [
       "'for essay_v in d1.essay:\\n    print(essay_v)\\n    break'"
      ]
     },
     "execution_count": 76,
     "metadata": {},
     "output_type": "execute_result"
    }
   ],
   "source": [
    "\"\"\"for essay_v in d1.essay:\n",
    "    print(essay_v)\n",
    "    break\"\"\""
   ]
  },
  {
   "cell_type": "code",
   "execution_count": 77,
   "id": "stunning-tumor",
   "metadata": {
    "execution": {
     "iopub.execute_input": "2021-06-21T10:23:11.577967Z",
     "iopub.status.busy": "2021-06-21T10:23:11.577341Z",
     "iopub.status.idle": "2021-06-21T10:23:11.581966Z",
     "shell.execute_reply": "2021-06-21T10:23:11.581475Z",
     "shell.execute_reply.started": "2021-06-21T07:08:21.417072Z"
    },
    "papermill": {
     "duration": 0.348655,
     "end_time": "2021-06-21T10:23:11.582101",
     "exception": false,
     "start_time": "2021-06-21T10:23:11.233446",
     "status": "completed"
    },
    "tags": []
   },
   "outputs": [
    {
     "data": {
      "text/plain": [
       "'for tweet in test_tweets:\\n    vec = get_mean_vector(w2v_model.wv, tweet)\\n    if len(vec) > 0:\\n        test_array.append(vec)'"
      ]
     },
     "execution_count": 77,
     "metadata": {},
     "output_type": "execute_result"
    }
   ],
   "source": [
    "\"\"\"def get_mean_vector(word2vec_model, words):\n",
    "    # remove out-of-vocabulary words\n",
    "    words = [word for word in words if word in word2vec_model.key_to_index]\n",
    "    if len(words) >= 1:\n",
    "        return np.mean(word2vec_model[words], axis=0)\n",
    "    else:\n",
    "        return np.zeros(word2vec_model.vector_size)\n",
    "\n",
    "#Vectorizing \n",
    "w2v_model = gensim.models.Word2Vec(sentences, min_count = 11, vector_size = 500, window = 10, sg=1)\n",
    "\"\"\"\n",
    "#words = w2v_model.wv.key_to_index\n",
    "#we_dict = {word:w2v_model.wv[word] for word in words}\n",
    "\n",
    "\"\"\"train_array=[]\n",
    "test_array=[]\n",
    "for line in sentences:\n",
    "    vec = get_mean_vector(w2v_model.wv, line)\n",
    "    if len(vec) > 0:\n",
    "        train_array.append(vec)\"\"\"\n",
    "        \n",
    "\"\"\"for tweet in test_tweets:\n",
    "    vec = get_mean_vector(w2v_model.wv, tweet)\n",
    "    if len(vec) > 0:\n",
    "        test_array.append(vec)\"\"\""
   ]
  },
  {
   "cell_type": "code",
   "execution_count": 78,
   "id": "later-investor",
   "metadata": {
    "execution": {
     "iopub.execute_input": "2021-06-21T10:23:12.217607Z",
     "iopub.status.busy": "2021-06-21T10:23:12.217002Z",
     "iopub.status.idle": "2021-06-21T10:23:12.221347Z",
     "shell.execute_reply": "2021-06-21T10:23:12.220883Z",
     "shell.execute_reply.started": "2021-06-21T07:06:33.531291Z"
    },
    "papermill": {
     "duration": 0.32539,
     "end_time": "2021-06-21T10:23:12.221471",
     "exception": false,
     "start_time": "2021-06-21T10:23:11.896081",
     "status": "completed"
    },
    "tags": []
   },
   "outputs": [],
   "source": [
    "#len(we_dict)"
   ]
  },
  {
   "cell_type": "code",
   "execution_count": 79,
   "id": "durable-humanitarian",
   "metadata": {
    "execution": {
     "iopub.execute_input": "2021-06-21T10:23:12.867575Z",
     "iopub.status.busy": "2021-06-21T10:23:12.867017Z",
     "iopub.status.idle": "2021-06-21T10:23:12.869792Z",
     "shell.execute_reply": "2021-06-21T10:23:12.869210Z",
     "shell.execute_reply.started": "2021-06-21T07:08:35.131185Z"
    },
    "papermill": {
     "duration": 0.323919,
     "end_time": "2021-06-21T10:23:12.869913",
     "exception": false,
     "start_time": "2021-06-21T10:23:12.545994",
     "status": "completed"
    },
    "tags": []
   },
   "outputs": [],
   "source": [
    "#len(train_array)"
   ]
  },
  {
   "cell_type": "code",
   "execution_count": 80,
   "id": "motivated-latino",
   "metadata": {
    "collapsed": true,
    "execution": {
     "iopub.execute_input": "2021-06-21T10:23:13.548978Z",
     "iopub.status.busy": "2021-06-21T10:23:13.548301Z",
     "iopub.status.idle": "2021-06-21T10:23:13.550668Z",
     "shell.execute_reply": "2021-06-21T10:23:13.551072Z",
     "shell.execute_reply.started": "2021-06-21T06:40:33.401264Z"
    },
    "jupyter": {
     "outputs_hidden": true
    },
    "papermill": {
     "duration": 0.361335,
     "end_time": "2021-06-21T10:23:13.551217",
     "exception": false,
     "start_time": "2021-06-21T10:23:13.189882",
     "status": "completed"
    },
    "tags": []
   },
   "outputs": [],
   "source": [
    "#train_array"
   ]
  },
  {
   "cell_type": "code",
   "execution_count": null,
   "id": "removed-fusion",
   "metadata": {
    "papermill": {
     "duration": 0.320187,
     "end_time": "2021-06-21T10:23:14.196245",
     "exception": false,
     "start_time": "2021-06-21T10:23:13.876058",
     "status": "completed"
    },
    "tags": []
   },
   "outputs": [],
   "source": []
  },
  {
   "cell_type": "code",
   "execution_count": null,
   "id": "worldwide-albania",
   "metadata": {
    "papermill": {
     "duration": 0.320997,
     "end_time": "2021-06-21T10:23:14.841360",
     "exception": false,
     "start_time": "2021-06-21T10:23:14.520363",
     "status": "completed"
    },
    "tags": []
   },
   "outputs": [],
   "source": []
  },
  {
   "cell_type": "code",
   "execution_count": null,
   "id": "bulgarian-amazon",
   "metadata": {
    "papermill": {
     "duration": 0.320955,
     "end_time": "2021-06-21T10:23:15.486848",
     "exception": false,
     "start_time": "2021-06-21T10:23:15.165893",
     "status": "completed"
    },
    "tags": []
   },
   "outputs": [],
   "source": []
  },
  {
   "cell_type": "code",
   "execution_count": 81,
   "id": "descending-blogger",
   "metadata": {
    "execution": {
     "iopub.execute_input": "2021-06-21T10:23:16.116719Z",
     "iopub.status.busy": "2021-06-21T10:23:16.116072Z",
     "iopub.status.idle": "2021-06-21T10:23:16.119006Z",
     "shell.execute_reply": "2021-06-21T10:23:16.118405Z",
     "shell.execute_reply.started": "2021-06-19T15:02:02.919791Z"
    },
    "papermill": {
     "duration": 0.321559,
     "end_time": "2021-06-21T10:23:16.119133",
     "exception": false,
     "start_time": "2021-06-21T10:23:15.797574",
     "status": "completed"
    },
    "tags": []
   },
   "outputs": [],
   "source": [
    "#BASE_MODEL = '/kaggle/input/huggingface-roberta-variants/distilroberta-base/distilroberta-base'"
   ]
  },
  {
   "cell_type": "code",
   "execution_count": 82,
   "id": "mobile-catholic",
   "metadata": {
    "execution": {
     "iopub.execute_input": "2021-06-21T10:23:16.779155Z",
     "iopub.status.busy": "2021-06-21T10:23:16.778242Z",
     "iopub.status.idle": "2021-06-21T10:23:16.781812Z",
     "shell.execute_reply": "2021-06-21T10:23:16.782326Z",
     "shell.execute_reply.started": "2021-06-19T15:02:04.164956Z"
    },
    "papermill": {
     "duration": 0.344844,
     "end_time": "2021-06-21T10:23:16.782488",
     "exception": false,
     "start_time": "2021-06-21T10:23:16.437644",
     "status": "completed"
    },
    "tags": []
   },
   "outputs": [
    {
     "data": {
      "text/plain": [
       "'from transformers import AutoTokenizer\\n\\ntokenizer = AutoTokenizer.from_pretrained(BASE_MODEL)'"
      ]
     },
     "execution_count": 82,
     "metadata": {},
     "output_type": "execute_result"
    }
   ],
   "source": [
    "\"\"\"from transformers import AutoTokenizer\n",
    "\n",
    "tokenizer = AutoTokenizer.from_pretrained(BASE_MODEL)\"\"\""
   ]
  },
  {
   "cell_type": "code",
   "execution_count": 83,
   "id": "cardiovascular-selling",
   "metadata": {
    "execution": {
     "iopub.execute_input": "2021-06-21T10:23:17.454175Z",
     "iopub.status.busy": "2021-06-21T10:23:17.453484Z",
     "iopub.status.idle": "2021-06-21T10:23:17.457564Z",
     "shell.execute_reply": "2021-06-21T10:23:17.457989Z",
     "shell.execute_reply.started": "2021-06-19T15:02:05.364704Z"
    },
    "papermill": {
     "duration": 0.32939,
     "end_time": "2021-06-21T10:23:17.458146",
     "exception": false,
     "start_time": "2021-06-21T10:23:17.128756",
     "status": "completed"
    },
    "tags": []
   },
   "outputs": [
    {
     "data": {
      "text/plain": [
       "'from transformers import AutoTokenizer\\n\\ntokenizer = AutoTokenizer.from_pretrained(BASE_MODEL)'"
      ]
     },
     "execution_count": 83,
     "metadata": {},
     "output_type": "execute_result"
    }
   ],
   "source": [
    "\"\"\"from transformers import AutoTokenizer\n",
    "\n",
    "tokenizer = AutoTokenizer.from_pretrained(BASE_MODEL)\"\"\""
   ]
  },
  {
   "cell_type": "code",
   "execution_count": 84,
   "id": "refined-texture",
   "metadata": {
    "execution": {
     "iopub.execute_input": "2021-06-21T10:23:18.092993Z",
     "iopub.status.busy": "2021-06-21T10:23:18.092310Z",
     "iopub.status.idle": "2021-06-21T10:23:18.095005Z",
     "shell.execute_reply": "2021-06-21T10:23:18.095395Z",
     "shell.execute_reply.started": "2021-06-19T14:52:53.685357Z"
    },
    "papermill": {
     "duration": 0.321823,
     "end_time": "2021-06-21T10:23:18.095588",
     "exception": false,
     "start_time": "2021-06-21T10:23:17.773765",
     "status": "completed"
    },
    "tags": []
   },
   "outputs": [],
   "source": [
    "#X = d[\"essay\"]\n",
    "#Y = d[\"evaluator_rating\"]"
   ]
  },
  {
   "cell_type": "code",
   "execution_count": 85,
   "id": "preceding-collins",
   "metadata": {
    "execution": {
     "iopub.execute_input": "2021-06-21T10:23:18.740525Z",
     "iopub.status.busy": "2021-06-21T10:23:18.739901Z",
     "iopub.status.idle": "2021-06-21T10:23:18.743561Z",
     "shell.execute_reply": "2021-06-21T10:23:18.743075Z",
     "shell.execute_reply.started": "2021-06-19T14:52:59.625749Z"
    },
    "papermill": {
     "duration": 0.328905,
     "end_time": "2021-06-21T10:23:18.743689",
     "exception": false,
     "start_time": "2021-06-21T10:23:18.414784",
     "status": "completed"
    },
    "tags": []
   },
   "outputs": [],
   "source": [
    "#from sklearn.model_selection import train_test_split\n",
    "#x_train, x_test, y_train, y_test = train_test_split(X,Y,test_size=0.2, random_state=42)"
   ]
  },
  {
   "cell_type": "code",
   "execution_count": 86,
   "id": "moderate-sterling",
   "metadata": {
    "execution": {
     "iopub.execute_input": "2021-06-21T10:23:19.394706Z",
     "iopub.status.busy": "2021-06-21T10:23:19.394061Z",
     "iopub.status.idle": "2021-06-21T10:23:19.396684Z",
     "shell.execute_reply": "2021-06-21T10:23:19.397094Z",
     "shell.execute_reply.started": "2021-06-19T15:03:05.624536Z"
    },
    "papermill": {
     "duration": 0.333132,
     "end_time": "2021-06-21T10:23:19.397244",
     "exception": false,
     "start_time": "2021-06-21T10:23:19.064112",
     "status": "completed"
    },
    "tags": []
   },
   "outputs": [
    {
     "data": {
      "text/plain": [
       "'def get_data(d1):\\n    tokenized = tokenizer(d1[\"essay\"].tolist(), padding=True, return_tensors=\"np\") \\n    return {feat: tokenized[feat] for feat in tokenizer.model_input_names}\\n    \\nx = get_data(d1)\\nx'"
      ]
     },
     "execution_count": 86,
     "metadata": {},
     "output_type": "execute_result"
    }
   ],
   "source": [
    "\"\"\"def get_data(d1):\n",
    "    tokenized = tokenizer(d1[\"essay\"].tolist(), padding=True, return_tensors=\"np\") \n",
    "    return {feat: tokenized[feat] for feat in tokenizer.model_input_names}\n",
    "    \n",
    "x = get_data(d1)\n",
    "x\"\"\""
   ]
  },
  {
   "cell_type": "code",
   "execution_count": 87,
   "id": "desperate-vehicle",
   "metadata": {
    "execution": {
     "iopub.execute_input": "2021-06-21T10:23:20.057214Z",
     "iopub.status.busy": "2021-06-21T10:23:20.056636Z",
     "iopub.status.idle": "2021-06-21T10:23:20.061704Z",
     "shell.execute_reply": "2021-06-21T10:23:20.062151Z"
    },
    "papermill": {
     "duration": 0.331939,
     "end_time": "2021-06-21T10:23:20.062320",
     "exception": false,
     "start_time": "2021-06-21T10:23:19.730381",
     "status": "completed"
    },
    "tags": []
   },
   "outputs": [
    {
     "data": {
      "text/plain": [
       "'#t[\"excerpt\"] = t[\"excerpt\"].apply(preprocess_sentence)\\nx_test = get_data(d2)\\ny_test = model.predict(x_test)\\nd2[\\'target\\'] = y_test.logits[:,0]\\nd2\\n#t.to_csv(\\'submission.csv\\', columns=[\\'id\\',\\'target\\'], index=False)'"
      ]
     },
     "execution_count": 87,
     "metadata": {},
     "output_type": "execute_result"
    }
   ],
   "source": [
    "\"\"\"#t[\"excerpt\"] = t[\"excerpt\"].apply(preprocess_sentence)\n",
    "x_test = get_data(d2)\n",
    "y_test = model.predict(x_test)\n",
    "d2['target'] = y_test.logits[:,0]\n",
    "d2\n",
    "#t.to_csv('submission.csv', columns=['id','target'], index=False)\"\"\""
   ]
  },
  {
   "cell_type": "code",
   "execution_count": null,
   "id": "german-arlington",
   "metadata": {
    "papermill": {
     "duration": 0.324331,
     "end_time": "2021-06-21T10:23:20.706837",
     "exception": false,
     "start_time": "2021-06-21T10:23:20.382506",
     "status": "completed"
    },
    "tags": []
   },
   "outputs": [],
   "source": []
  },
  {
   "cell_type": "code",
   "execution_count": null,
   "id": "driven-extraction",
   "metadata": {
    "papermill": {
     "duration": 0.323822,
     "end_time": "2021-06-21T10:23:21.354674",
     "exception": false,
     "start_time": "2021-06-21T10:23:21.030852",
     "status": "completed"
    },
    "tags": []
   },
   "outputs": [],
   "source": []
  },
  {
   "cell_type": "code",
   "execution_count": null,
   "id": "incoming-range",
   "metadata": {
    "papermill": {
     "duration": 0.322104,
     "end_time": "2021-06-21T10:23:22.004139",
     "exception": false,
     "start_time": "2021-06-21T10:23:21.682035",
     "status": "completed"
    },
    "tags": []
   },
   "outputs": [],
   "source": []
  },
  {
   "cell_type": "code",
   "execution_count": null,
   "id": "random-liability",
   "metadata": {
    "papermill": {
     "duration": 0.35022,
     "end_time": "2021-06-21T10:23:22.672835",
     "exception": false,
     "start_time": "2021-06-21T10:23:22.322615",
     "status": "completed"
    },
    "tags": []
   },
   "outputs": [],
   "source": []
  },
  {
   "cell_type": "code",
   "execution_count": null,
   "id": "genuine-latex",
   "metadata": {
    "papermill": {
     "duration": 0.320263,
     "end_time": "2021-06-21T10:23:23.310957",
     "exception": false,
     "start_time": "2021-06-21T10:23:22.990694",
     "status": "completed"
    },
    "tags": []
   },
   "outputs": [],
   "source": []
  },
  {
   "cell_type": "code",
   "execution_count": null,
   "id": "forward-somerset",
   "metadata": {
    "papermill": {
     "duration": 0.320985,
     "end_time": "2021-06-21T10:23:23.950976",
     "exception": false,
     "start_time": "2021-06-21T10:23:23.629991",
     "status": "completed"
    },
    "tags": []
   },
   "outputs": [],
   "source": []
  },
  {
   "cell_type": "code",
   "execution_count": null,
   "id": "logical-remedy",
   "metadata": {
    "papermill": {
     "duration": 0.320223,
     "end_time": "2021-06-21T10:23:24.587682",
     "exception": false,
     "start_time": "2021-06-21T10:23:24.267459",
     "status": "completed"
    },
    "tags": []
   },
   "outputs": [],
   "source": []
  }
 ],
 "metadata": {
  "kernelspec": {
   "display_name": "Python 3",
   "language": "python",
   "name": "python3"
  },
  "language_info": {
   "codemirror_mode": {
    "name": "ipython",
    "version": 3
   },
   "file_extension": ".py",
   "mimetype": "text/x-python",
   "name": "python",
   "nbconvert_exporter": "python",
   "pygments_lexer": "ipython3",
   "version": "3.7.10"
  },
  "papermill": {
   "default_parameters": {},
   "duration": 101.237552,
   "end_time": "2021-06-21T10:23:26.521451",
   "environment_variables": {},
   "exception": null,
   "input_path": "__notebook__.ipynb",
   "output_path": "__notebook__.ipynb",
   "parameters": {},
   "start_time": "2021-06-21T10:21:45.283899",
   "version": "2.3.3"
  }
 },
 "nbformat": 4,
 "nbformat_minor": 5
}
